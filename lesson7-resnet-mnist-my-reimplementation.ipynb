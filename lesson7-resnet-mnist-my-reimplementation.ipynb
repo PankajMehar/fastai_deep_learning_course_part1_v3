{
 "cells": [
  {
   "cell_type": "markdown",
   "metadata": {},
   "source": [
    "# Understanding What Makes ResNets Special\n",
    "\n",
    "Building a CNN with [ResNet](https://arxiv.org/abs/1512.03385) architecture to solve the MNIST classification task."
   ]
  },
  {
   "cell_type": "code",
   "execution_count": 1,
   "metadata": {},
   "outputs": [],
   "source": [
    "%matplotlib inline\n",
    "from fastai import *\n",
    "from fastai.vision import *\n",
    "\n",
    "# Get nicer looking graphs for retina displays\n",
    "%config InlineBackend.figure_format = 'retina'"
   ]
  },
  {
   "cell_type": "markdown",
   "metadata": {},
   "source": [
    "## Preprocessing with fastai's Data Block API\n",
    "\n",
    "First, let's download the MNIST Dataset."
   ]
  },
  {
   "cell_type": "code",
   "execution_count": 2,
   "metadata": {},
   "outputs": [],
   "source": [
    "path = untar_data(URLs.MNIST)"
   ]
  },
  {
   "cell_type": "code",
   "execution_count": 3,
   "metadata": {},
   "outputs": [
    {
     "data": {
      "text/plain": [
       "[PosixPath('/home/jupyter/.fastai/data/mnist_png/testing'),\n",
       " PosixPath('/home/jupyter/.fastai/data/mnist_png/training')]"
      ]
     },
     "execution_count": 3,
     "metadata": {},
     "output_type": "execute_result"
    }
   ],
   "source": [
    "path.ls()"
   ]
  },
  {
   "cell_type": "markdown",
   "metadata": {},
   "source": [
    "Fastai's [data block API](https://docs.fast.ai/data_block.html) offers a handy way to execute all the steps necessary to preprocess a dataset for training in a neural network (input locations, labels, train-val-test split, etc.), in basically just one line of code.\n",
    "\n",
    "In this notebook, we'll explore in greater detail just what's going on in each preprocessing operation we apply to our MNIST data."
   ]
  },
  {
   "cell_type": "markdown",
   "metadata": {},
   "source": [
    "First, we'll quickly create a list that contains all our images."
   ]
  },
  {
   "cell_type": "code",
   "execution_count": 4,
   "metadata": {},
   "outputs": [],
   "source": [
    "il = ImageItemList.from_folder(path, convert_mode='L') # open images using Pillow's black and white mode"
   ]
  },
  {
   "cell_type": "code",
   "execution_count": 5,
   "metadata": {},
   "outputs": [
    {
     "data": {
      "text/plain": [
       "PosixPath('/home/jupyter/.fastai/data/mnist_png/testing/8/6327.png')"
      ]
     },
     "execution_count": 5,
     "metadata": {},
     "output_type": "execute_result"
    }
   ],
   "source": [
    "il.items[0]"
   ]
  },
  {
   "cell_type": "markdown",
   "metadata": {},
   "source": [
    "We can change the color map default from 'rgb' to 'binary' since our MNIST images are just black and white. This is important because as we will soon see, this our images have just one color channel, since we opened them using [Pillow's](https://pillow.readthedocs.io/en/4.2.x/reference/Image.html) \"L\" mode (black and white)."
   ]
  },
  {
   "cell_type": "code",
   "execution_count": 7,
   "metadata": {},
   "outputs": [],
   "source": [
    "defaults.cmap='binary'"
   ]
  },
  {
   "cell_type": "code",
   "execution_count": 8,
   "metadata": {},
   "outputs": [
    {
     "data": {
      "text/plain": [
       "ImageItemList (70000 items)\n",
       "[Image (1, 28, 28), Image (1, 28, 28), Image (1, 28, 28), Image (1, 28, 28), Image (1, 28, 28)]...\n",
       "Path: /home/jupyter/.fastai/data/mnist_png"
      ]
     },
     "execution_count": 8,
     "metadata": {},
     "output_type": "execute_result"
    }
   ],
   "source": [
    "il"
   ]
  },
  {
   "cell_type": "code",
   "execution_count": 9,
   "metadata": {},
   "outputs": [
    {
     "data": {
      "image/png": "[encoded data removed]",
      "text/plain": [
       "<Figure size 216x216 with 1 Axes>"
      ]
     },
     "metadata": {
      "image/png": {
       "height": 194,
       "width": 197
      },
      "needs_background": "light"
     },
     "output_type": "display_data"
    }
   ],
   "source": [
    "il[0].show()"
   ]
  },
  {
   "cell_type": "markdown",
   "metadata": {},
   "source": [
    "The `split_by_folder` method allows us to designate existing folders as containing the training/validation/testing sets. For the purposes of this exercise we don't need a final test set, so we'll use our dataset's `training` and `testing` folders for its train and validation sets, respectively"
   ]
  },
  {
   "cell_type": "code",
   "execution_count": 10,
   "metadata": {},
   "outputs": [],
   "source": [
    "sd = il.split_by_folder(train='training', valid='testing')"
   ]
  },
  {
   "cell_type": "code",
   "execution_count": 11,
   "metadata": {},
   "outputs": [
    {
     "data": {
      "text/plain": [
       "ItemLists;\n",
       "\n",
       "Train: ImageItemList (60000 items)\n",
       "[Image (1, 28, 28), Image (1, 28, 28), Image (1, 28, 28), Image (1, 28, 28), Image (1, 28, 28)]...\n",
       "Path: /home/jupyter/.fastai/data/mnist_png;\n",
       "\n",
       "Valid: ImageItemList (10000 items)\n",
       "[Image (1, 28, 28), Image (1, 28, 28), Image (1, 28, 28), Image (1, 28, 28), Image (1, 28, 28)]...\n",
       "Path: /home/jupyter/.fastai/data/mnist_png;\n",
       "\n",
       "Test: None"
      ]
     },
     "execution_count": 11,
     "metadata": {},
     "output_type": "execute_result"
    }
   ],
   "source": [
    "sd"
   ]
  },
  {
   "cell_type": "code",
   "execution_count": 12,
   "metadata": {},
   "outputs": [
    {
     "data": {
      "text/plain": [
       "[PosixPath('/home/jupyter/.fastai/data/mnist_png/training/8'),\n",
       " PosixPath('/home/jupyter/.fastai/data/mnist_png/training/0'),\n",
       " PosixPath('/home/jupyter/.fastai/data/mnist_png/training/3'),\n",
       " PosixPath('/home/jupyter/.fastai/data/mnist_png/training/7'),\n",
       " PosixPath('/home/jupyter/.fastai/data/mnist_png/training/4'),\n",
       " PosixPath('/home/jupyter/.fastai/data/mnist_png/training/5'),\n",
       " PosixPath('/home/jupyter/.fastai/data/mnist_png/training/2'),\n",
       " PosixPath('/home/jupyter/.fastai/data/mnist_png/training/9'),\n",
       " PosixPath('/home/jupyter/.fastai/data/mnist_png/training/1'),\n",
       " PosixPath('/home/jupyter/.fastai/data/mnist_png/training/6')]"
      ]
     },
     "execution_count": 12,
     "metadata": {},
     "output_type": "execute_result"
    }
   ],
   "source": [
    "(path/'training').ls()"
   ]
  },
  {
   "cell_type": "markdown",
   "metadata": {},
   "source": [
    "We see that inside our dataset's images are further sub-grouped into ten separate folders, where each folder corresponds to one of the ten labels (digits 0 through 9).\n",
    "\n",
    "Fastai's `label_from_folder` method lets easily lets us use designate these folder names as the labels for our data."
   ]
  },
  {
   "cell_type": "code",
   "execution_count": 13,
   "metadata": {},
   "outputs": [],
   "source": [
    "ll = sd.label_from_folder()"
   ]
  },
  {
   "cell_type": "code",
   "execution_count": 14,
   "metadata": {},
   "outputs": [
    {
     "data": {
      "text/plain": [
       "LabelLists;\n",
       "\n",
       "Train: LabelList\n",
       "y: CategoryList (60000 items)\n",
       "[Category 8, Category 8, Category 8, Category 8, Category 8]...\n",
       "Path: /home/jupyter/.fastai/data/mnist_png\n",
       "x: ImageItemList (60000 items)\n",
       "[Image (1, 28, 28), Image (1, 28, 28), Image (1, 28, 28), Image (1, 28, 28), Image (1, 28, 28)]...\n",
       "Path: /home/jupyter/.fastai/data/mnist_png;\n",
       "\n",
       "Valid: LabelList\n",
       "y: CategoryList (10000 items)\n",
       "[Category 8, Category 8, Category 8, Category 8, Category 8]...\n",
       "Path: /home/jupyter/.fastai/data/mnist_png\n",
       "x: ImageItemList (10000 items)\n",
       "[Image (1, 28, 28), Image (1, 28, 28), Image (1, 28, 28), Image (1, 28, 28), Image (1, 28, 28)]...\n",
       "Path: /home/jupyter/.fastai/data/mnist_png;\n",
       "\n",
       "Test: None"
      ]
     },
     "execution_count": 14,
     "metadata": {},
     "output_type": "execute_result"
    }
   ],
   "source": [
    "ll"
   ]
  },
  {
   "cell_type": "markdown",
   "metadata": {},
   "source": [
    "Let's do a quick sanity check and grab the first image and its corresponding label from our training set."
   ]
  },
  {
   "cell_type": "code",
   "execution_count": 15,
   "metadata": {},
   "outputs": [],
   "source": [
    "x, y = ll.train[0]"
   ]
  },
  {
   "cell_type": "code",
   "execution_count": 16,
   "metadata": {},
   "outputs": [
    {
     "name": "stdout",
     "output_type": "stream",
     "text": [
      "8 torch.Size([1, 28, 28])\n"
     ]
    },
    {
     "data": {
      "image/png": "[encoded data removed]",
      "text/plain": [
       "<Figure size 216x216 with 1 Axes>"
      ]
     },
     "metadata": {
      "image/png": {
       "height": 194,
       "width": 197
      },
      "needs_background": "light"
     },
     "output_type": "display_data"
    }
   ],
   "source": [
    "x.show()\n",
    "print(y, x.shape)"
   ]
  },
  {
   "cell_type": "markdown",
   "metadata": {},
   "source": [
    "We're almost done. The `transform` method allows us to designate the kinds of transforms we'll randomly apply to images in our training set in order to perform data augmentation.\n",
    "\n",
    "Here, we'll randomly apply padding to images, ensuring that the background is always black, and images are cropped to 28x28."
   ]
  },
  {
   "cell_type": "code",
   "execution_count": 17,
   "metadata": {},
   "outputs": [],
   "source": [
    "tfms = ([*rand_pad(padding=3, size=28, mode='zeros')], []) # Empty list would contain transforms for val set, if we wanted"
   ]
  },
  {
   "cell_type": "code",
   "execution_count": 18,
   "metadata": {},
   "outputs": [],
   "source": [
    "ll = ll.transform(tfms)"
   ]
  },
  {
   "cell_type": "markdown",
   "metadata": {},
   "source": [
    "Let's set the batch size to 128."
   ]
  },
  {
   "cell_type": "code",
   "execution_count": 19,
   "metadata": {},
   "outputs": [],
   "source": [
    "bs = 128"
   ]
  },
  {
   "cell_type": "markdown",
   "metadata": {},
   "source": [
    "Our data is now ready to be used for training. We wrap it with a `databunch` object, where we designate the batch size. If we were using a pre-trained model, we'd normalize using ImageNet stats. However, since we're not using transfer learning in this exercise, we only need to apply standard normalization."
   ]
  },
  {
   "cell_type": "code",
   "execution_count": 20,
   "metadata": {},
   "outputs": [],
   "source": [
    "data = ll.databunch(bs=bs).normalize()"
   ]
  },
  {
   "cell_type": "markdown",
   "metadata": {},
   "source": [
    "One final sanity check to ensure that our images are being stored and randomly augmented in the manner we'd expect."
   ]
  },
  {
   "cell_type": "code",
   "execution_count": 21,
   "metadata": {},
   "outputs": [],
   "source": [
    "x,y = data.train_ds[0]"
   ]
  },
  {
   "cell_type": "code",
   "execution_count": 23,
   "metadata": {},
   "outputs": [
    {
     "name": "stdout",
     "output_type": "stream",
     "text": [
      "8\n"
     ]
    },
    {
     "data": {
      "image/png": "[encoded data removed]",
      "text/plain": [
       "<Figure size 216x216 with 1 Axes>"
      ]
     },
     "metadata": {
      "image/png": {
       "height": 194,
       "width": 197
      },
      "needs_background": "light"
     },
     "output_type": "display_data"
    }
   ],
   "source": [
    "x.show()\n",
    "print(y)"
   ]
  },
  {
   "cell_type": "code",
   "execution_count": 24,
   "metadata": {},
   "outputs": [
    {
     "data": {
      "image/png": "[encoded data removed]",
      "text/plain": [
       "<Figure size 576x576 with 9 Axes>"
      ]
     },
     "metadata": {
      "image/png": {
       "height": 467,
       "width": 477
      },
      "needs_background": "light"
     },
     "output_type": "display_data"
    }
   ],
   "source": [
    "def _plot(i,j,ax): data.train_ds[0][0].show(ax, cmap='gray')\n",
    "plot_multi(_plot, 3, 3, figsize=(8,8))"
   ]
  },
  {
   "cell_type": "markdown",
   "metadata": {},
   "source": [
    "Let's also grab one batch and make sure everything checks out."
   ]
  },
  {
   "cell_type": "code",
   "execution_count": 25,
   "metadata": {},
   "outputs": [
    {
     "data": {
      "text/plain": [
       "(torch.Size([128, 1, 28, 28]), torch.Size([128]))"
      ]
     },
     "execution_count": 25,
     "metadata": {},
     "output_type": "execute_result"
    }
   ],
   "source": [
    "xb, yb = data.one_batch()\n",
    "xb.shape, yb.shape"
   ]
  },
  {
   "cell_type": "code",
   "execution_count": 26,
   "metadata": {},
   "outputs": [
    {
     "data": {
      "image/png": "[encoded data removed]",
      "text/plain": [
       "<Figure size 360x360 with 9 Axes>"
      ]
     },
     "metadata": {
      "image/png": {
       "height": 351,
       "width": 338
      },
      "needs_background": "light"
     },
     "output_type": "display_data"
    }
   ],
   "source": [
    "data.show_batch(rows=3, figsize=(5,5))"
   ]
  },
  {
   "cell_type": "markdown",
   "metadata": {},
   "source": [
    "## Creating and training a basic CNN with batchnorm\n",
    "\n",
    "The goal of this notebook is to understand the ResNet architecture. A great way to do this is to first create and train a traditional CNN from scratch, and then build a CNN that employs ResNet characteristics, and compare the two approaches.\n",
    "\n",
    "First, we define our convolutional layers."
   ]
  },
  {
   "cell_type": "code",
   "execution_count": 27,
   "metadata": {},
   "outputs": [],
   "source": [
    "def conv(ni, nf):\n",
    "    return nn.Conv2d(ni, nf, kernel_size=3, stride=2, padding=1)"
   ]
  },
  {
   "cell_type": "markdown",
   "metadata": {},
   "source": [
    "Next, we outline our network's architecture."
   ]
  },
  {
   "cell_type": "code",
   "execution_count": 28,
   "metadata": {},
   "outputs": [],
   "source": [
    "model = nn.Sequential(\n",
    "    conv(1,8),   # 14x14\n",
    "    nn.BatchNorm2d(8),\n",
    "    nn.ReLU(),\n",
    "    conv(8,16),  # 7x7\n",
    "    nn.BatchNorm2d(16),\n",
    "    nn.ReLU(),\n",
    "    conv(16,32), # 4x4\n",
    "    nn.BatchNorm2d(32),\n",
    "    nn.ReLU(),\n",
    "    conv(32,16), # 2x2\n",
    "    nn.BatchNorm2d(16),\n",
    "    nn.ReLU(),\n",
    "    conv(16,10), # 1x1\n",
    "    nn.BatchNorm2d(10),\n",
    "    Flatten()    # remove the (1,1) grid\n",
    ")"
   ]
  },
  {
   "cell_type": "code",
   "execution_count": 30,
   "metadata": {},
   "outputs": [],
   "source": [
    "learn = Learner(data, model, loss_func=nn.CrossEntropyLoss(), metrics=accuracy)"
   ]
  },
  {
   "cell_type": "code",
   "execution_count": 31,
   "metadata": {},
   "outputs": [
    {
     "name": "stdout",
     "output_type": "stream",
     "text": [
      "======================================================================\n",
      "Layer (type)         Output Shape         Param #    Trainable \n",
      "======================================================================\n",
      "Conv2d               [128, 8, 14, 14]     80         True      \n",
      "______________________________________________________________________\n",
      "BatchNorm2d          [128, 8, 14, 14]     16         True      \n",
      "______________________________________________________________________\n",
      "ReLU                 [128, 8, 14, 14]     0          False     \n",
      "______________________________________________________________________\n",
      "Conv2d               [128, 16, 7, 7]      1168       True      \n",
      "______________________________________________________________________\n",
      "BatchNorm2d          [128, 16, 7, 7]      32         True      \n",
      "______________________________________________________________________\n",
      "ReLU                 [128, 16, 7, 7]      0          False     \n",
      "______________________________________________________________________\n",
      "Conv2d               [128, 32, 4, 4]      4640       True      \n",
      "______________________________________________________________________\n",
      "BatchNorm2d          [128, 32, 4, 4]      64         True      \n",
      "______________________________________________________________________\n",
      "ReLU                 [128, 32, 4, 4]      0          False     \n",
      "______________________________________________________________________\n",
      "Conv2d               [128, 16, 2, 2]      4624       True      \n",
      "______________________________________________________________________\n",
      "BatchNorm2d          [128, 16, 2, 2]      32         True      \n",
      "______________________________________________________________________\n",
      "ReLU                 [128, 16, 2, 2]      0          False     \n",
      "______________________________________________________________________\n",
      "Conv2d               [128, 10, 1, 1]      1450       True      \n",
      "______________________________________________________________________\n",
      "BatchNorm2d          [128, 10, 1, 1]      20         True      \n",
      "______________________________________________________________________\n",
      "Lambda               [128, 10]            0          False     \n",
      "______________________________________________________________________\n",
      "\n",
      "Total params:  12126\n",
      "Total trainable params:  12126\n",
      "Total non-trainable params:  0\n"
     ]
    }
   ],
   "source": [
    "learn.summary()"
   ]
  },
  {
   "cell_type": "code",
   "execution_count": 32,
   "metadata": {},
   "outputs": [],
   "source": [
    "xb = xb.cuda()"
   ]
  },
  {
   "cell_type": "code",
   "execution_count": 33,
   "metadata": {},
   "outputs": [
    {
     "data": {
      "text/plain": [
       "torch.Size([128, 10])"
      ]
     },
     "execution_count": 33,
     "metadata": {},
     "output_type": "execute_result"
    }
   ],
   "source": [
    "model(xb).shape"
   ]
  },
  {
   "cell_type": "markdown",
   "metadata": {},
   "source": [
    "Use learning rate finder to find the optimal learning rate."
   ]
  },
  {
   "cell_type": "code",
   "execution_count": 34,
   "metadata": {},
   "outputs": [
    {
     "name": "stdout",
     "output_type": "stream",
     "text": [
      "LR Finder is complete, type {learner_name}.recorder.plot() to see the graph.\n"
     ]
    },
    {
     "data": {
      "image/png": "[encoded data removed]",
      "text/plain": [
       "<Figure size 432x288 with 1 Axes>"
      ]
     },
     "metadata": {
      "image/png": {
       "height": 263,
       "width": 387
      },
      "needs_background": "light"
     },
     "output_type": "display_data"
    }
   ],
   "source": [
    "learn.lr_find(end_lr=100)\n",
    "learn.recorder.plot()"
   ]
  },
  {
   "cell_type": "code",
   "execution_count": 35,
   "metadata": {},
   "outputs": [
    {
     "data": {
      "text/html": [
       "Total time: 00:18 <p><table style='width:300px; margin-bottom:10px'>\n",
       "  <tr>\n",
       "    <th>epoch</th>\n",
       "    <th>train_loss</th>\n",
       "    <th>valid_loss</th>\n",
       "    <th>accuracy</th>\n",
       "  </tr>\n",
       "  <tr>\n",
       "    <th>1</th>\n",
       "    <th>0.227518</th>\n",
       "    <th>0.180438</th>\n",
       "    <th>0.942900</th>\n",
       "  </tr>\n",
       "  <tr>\n",
       "    <th>2</th>\n",
       "    <th>0.131197</th>\n",
       "    <th>0.092229</th>\n",
       "    <th>0.969200</th>\n",
       "  </tr>\n",
       "  <tr>\n",
       "    <th>3</th>\n",
       "    <th>0.067396</th>\n",
       "    <th>0.040904</th>\n",
       "    <th>0.987100</th>\n",
       "  </tr>\n",
       "</table>\n"
      ],
      "text/plain": [
       "<IPython.core.display.HTML object>"
      ]
     },
     "metadata": {},
     "output_type": "display_data"
    }
   ],
   "source": [
    "learn.fit_one_cycle(3, max_lr=0.1)"
   ]
  },
  {
   "cell_type": "markdown",
   "metadata": {},
   "source": [
    "## Refactor our basic CNN\n",
    "\n",
    "Refactoring network models is almost never done in most code that accompanies research papers, but it's very important that we nonetheless get into the habit of doing this. Refactored code has less redundancies, is simpler, and thus has a lower chance of having bugs.\n",
    "\n",
    "Here, we'll rewrite our model using PyTorch's `conv_layer` class, which allows us to omit `nn.BatchNorm2d()` and `nn.ReLU()`, since these are both included in layers created with `conv_layer`."
   ]
  },
  {
   "cell_type": "code",
   "execution_count": 36,
   "metadata": {},
   "outputs": [],
   "source": [
    "def conv2(ni, nf): return conv_layer(ni, nf, stride=2)"
   ]
  },
  {
   "cell_type": "code",
   "execution_count": 43,
   "metadata": {},
   "outputs": [],
   "source": [
    "# Much easier to see how number if input/output channels vary \n",
    "# over our model.\n",
    "\n",
    "model = nn.Sequential(\n",
    "    conv2(1,8),   # 14x14\n",
    "    conv2(8,16),  # 7x7\n",
    "    conv2(16,32), # 4x4\n",
    "    conv2(32,16), # 2x2\n",
    "    conv2(16,10), # 1x1\n",
    "    Flatten()     # remove (1,1) grid\n",
    ")"
   ]
  },
  {
   "cell_type": "code",
   "execution_count": 44,
   "metadata": {},
   "outputs": [],
   "source": [
    "learn = Learner(data, model, loss_func = nn.CrossEntropyLoss(), metrics=accuracy)"
   ]
  },
  {
   "cell_type": "code",
   "execution_count": 45,
   "metadata": {},
   "outputs": [
    {
     "data": {
      "text/html": [
       "Total time: 00:59 <p><table style='width:300px; margin-bottom:10px'>\n",
       "  <tr>\n",
       "    <th>epoch</th>\n",
       "    <th>train_loss</th>\n",
       "    <th>valid_loss</th>\n",
       "    <th>accuracy</th>\n",
       "  </tr>\n",
       "  <tr>\n",
       "    <th>1</th>\n",
       "    <th>0.234906</th>\n",
       "    <th>0.188805</th>\n",
       "    <th>0.941400</th>\n",
       "  </tr>\n",
       "  <tr>\n",
       "    <th>2</th>\n",
       "    <th>0.190297</th>\n",
       "    <th>0.229616</th>\n",
       "    <th>0.924800</th>\n",
       "  </tr>\n",
       "  <tr>\n",
       "    <th>3</th>\n",
       "    <th>0.154641</th>\n",
       "    <th>0.127442</th>\n",
       "    <th>0.958100</th>\n",
       "  </tr>\n",
       "  <tr>\n",
       "    <th>4</th>\n",
       "    <th>0.134910</th>\n",
       "    <th>0.097451</th>\n",
       "    <th>0.968200</th>\n",
       "  </tr>\n",
       "  <tr>\n",
       "    <th>5</th>\n",
       "    <th>0.118486</th>\n",
       "    <th>0.166093</th>\n",
       "    <th>0.953100</th>\n",
       "  </tr>\n",
       "  <tr>\n",
       "    <th>6</th>\n",
       "    <th>0.098162</th>\n",
       "    <th>0.132190</th>\n",
       "    <th>0.957900</th>\n",
       "  </tr>\n",
       "  <tr>\n",
       "    <th>7</th>\n",
       "    <th>0.092222</th>\n",
       "    <th>0.053411</th>\n",
       "    <th>0.982600</th>\n",
       "  </tr>\n",
       "  <tr>\n",
       "    <th>8</th>\n",
       "    <th>0.061054</th>\n",
       "    <th>0.040187</th>\n",
       "    <th>0.987200</th>\n",
       "  </tr>\n",
       "  <tr>\n",
       "    <th>9</th>\n",
       "    <th>0.052706</th>\n",
       "    <th>0.029349</th>\n",
       "    <th>0.990800</th>\n",
       "  </tr>\n",
       "  <tr>\n",
       "    <th>10</th>\n",
       "    <th>0.048193</th>\n",
       "    <th>0.027639</th>\n",
       "    <th>0.991800</th>\n",
       "  </tr>\n",
       "</table>\n"
      ],
      "text/plain": [
       "<IPython.core.display.HTML object>"
      ]
     },
     "metadata": {},
     "output_type": "display_data"
    }
   ],
   "source": [
    "learn.fit_one_cycle(10, max_lr=0.1)"
   ]
  },
  {
   "cell_type": "code",
   "execution_count": 47,
   "metadata": {},
   "outputs": [
    {
     "data": {
      "image/png": "[encoded data removed]",
      "text/plain": [
       "<Figure size 432x288 with 1 Axes>"
      ]
     },
     "metadata": {
      "image/png": {
       "height": 263,
       "width": 387
      },
      "needs_background": "light"
     },
     "output_type": "display_data"
    }
   ],
   "source": [
    "learn.recorder.plot_losses()"
   ]
  },
  {
   "cell_type": "markdown",
   "metadata": {},
   "source": [
    "## CNN with ResNet Architecture\n",
    "\n",
    "We'll now build a CNN that contains ResNet blocks. ResNet blocks allow us to build much deeper networks without having to worry about vanishing gradients. \n",
    "\n",
    "![resnet block](images/lesson7-resnet-mnist-my-reimplementation/resnet_block.png)\n",
    "\n",
    "The innovation is that each ResNet block contains an identity shortcut, or \"skip connection,\" that allows weight updates to be passed directly behind the two convolutional layers inside the ResNet block. The outcome is that weights in the early layers of the network can be successfully trained, even if the network is very, very deep.\n",
    "\n",
    "Vincent Fung's [writeup](https://towardsdatascience.com/an-overview-of-resnet-and-its-variants-5281e2f56035) contains a great summary."
   ]
  },
  {
   "cell_type": "markdown",
   "metadata": {},
   "source": [
    "Now let's see what a ResNet block looks like in code."
   ]
  },
  {
   "cell_type": "code",
   "execution_count": 48,
   "metadata": {},
   "outputs": [],
   "source": [
    "class ResBlock(nn.Module):\n",
    "    def __init__(self, nf):\n",
    "        super().__init__()\n",
    "        self.conv1 = conv_layer(nf, nf)\n",
    "        self.conv2 = conv_layer(nf, nf)\n",
    "        \n",
    "    def forward(self, x): \n",
    "        return x + self.conv2(self.conv1(x))"
   ]
  },
  {
   "cell_type": "markdown",
   "metadata": {},
   "source": [
    "Oftentimes, actually implementing a concept in code reveals that it is actually quite a deal more straightfoward and intuitive than written explanations or diagrams may at first glance make it seem."
   ]
  },
  {
   "cell_type": "markdown",
   "metadata": {},
   "source": [
    "Now we'll update the basic CNN we built and trained earlier, this time using our `ResBlock` class to include skip connections."
   ]
  },
  {
   "cell_type": "code",
   "execution_count": 50,
   "metadata": {},
   "outputs": [],
   "source": [
    "model = nn.Sequential(\n",
    "    conv2(1,8),\n",
    "    ResBlock(8),\n",
    "    conv2(8,16),\n",
    "    ResBlock(16),\n",
    "    conv2(16,32),\n",
    "    ResBlock(32),\n",
    "    conv2(32,16),\n",
    "    ResBlock(16),\n",
    "    conv2(16,10),\n",
    "    Flatten()\n",
    ")"
   ]
  },
  {
   "cell_type": "code",
   "execution_count": 51,
   "metadata": {},
   "outputs": [],
   "source": [
    "learn = Learner(data, model, loss_func = nn.CrossEntropyLoss(), metrics=accuracy)"
   ]
  },
  {
   "cell_type": "code",
   "execution_count": 52,
   "metadata": {},
   "outputs": [
    {
     "name": "stdout",
     "output_type": "stream",
     "text": [
      "LR Finder is complete, type {learner_name}.recorder.plot() to see the graph.\n"
     ]
    },
    {
     "data": {
      "image/png": "[encoded data removed]",
      "text/plain": [
       "<Figure size 432x288 with 1 Axes>"
      ]
     },
     "metadata": {
      "image/png": {
       "height": 263,
       "width": 387
      },
      "needs_background": "light"
     },
     "output_type": "display_data"
    }
   ],
   "source": [
    "learn.lr_find(end_lr=100)\n",
    "learn.recorder.plot()"
   ]
  },
  {
   "cell_type": "code",
   "execution_count": 53,
   "metadata": {},
   "outputs": [
    {
     "data": {
      "text/html": [
       "Total time: 00:24 <p><table style='width:300px; margin-bottom:10px'>\n",
       "  <tr>\n",
       "    <th>epoch</th>\n",
       "    <th>train_loss</th>\n",
       "    <th>valid_loss</th>\n",
       "    <th>accuracy</th>\n",
       "  </tr>\n",
       "  <tr>\n",
       "    <th>1</th>\n",
       "    <th>0.187314</th>\n",
       "    <th>0.183755</th>\n",
       "    <th>0.947200</th>\n",
       "  </tr>\n",
       "  <tr>\n",
       "    <th>2</th>\n",
       "    <th>0.090484</th>\n",
       "    <th>0.050604</th>\n",
       "    <th>0.985300</th>\n",
       "  </tr>\n",
       "  <tr>\n",
       "    <th>3</th>\n",
       "    <th>0.037119</th>\n",
       "    <th>0.024633</th>\n",
       "    <th>0.992400</th>\n",
       "  </tr>\n",
       "</table>\n"
      ],
      "text/plain": [
       "<IPython.core.display.HTML object>"
      ]
     },
     "metadata": {},
     "output_type": "display_data"
    }
   ],
   "source": [
    "learn.fit_one_cycle(3, max_lr=0.05)"
   ]
  },
  {
   "cell_type": "markdown",
   "metadata": {},
   "source": [
    "Our CNN with ResNet blocks already is doing much better than the standard CNN did, getting to an accuracy above `0.99` after only 3 epochs. Our standard CNN only got to `0.987` at this point."
   ]
  },
  {
   "cell_type": "markdown",
   "metadata": {},
   "source": [
    "We can further refactor our model that contains ResNet blocks."
   ]
  },
  {
   "cell_type": "code",
   "execution_count": 61,
   "metadata": {},
   "outputs": [],
   "source": [
    "def conv_and_res(ni, nf):\n",
    "    return nn.Sequential(conv2(ni, nf), ResBlock(nf))"
   ]
  },
  {
   "cell_type": "code",
   "execution_count": 62,
   "metadata": {},
   "outputs": [],
   "source": [
    "model = nn.Sequential(\n",
    "    conv_and_res(1,8),\n",
    "    conv_and_res(8,16),\n",
    "    conv_and_res(16,32),\n",
    "    conv_and_res(32,16),\n",
    "    conv2(16,10),\n",
    "    Flatten()\n",
    ")"
   ]
  },
  {
   "cell_type": "code",
   "execution_count": 63,
   "metadata": {},
   "outputs": [],
   "source": [
    "learn = Learner(data, model, loss_func = nn.CrossEntropyLoss(), metrics=accuracy)"
   ]
  },
  {
   "cell_type": "code",
   "execution_count": 64,
   "metadata": {},
   "outputs": [
    {
     "data": {
      "text/html": [
       "Total time: 01:21 <p><table style='width:300px; margin-bottom:10px'>\n",
       "  <tr>\n",
       "    <th>epoch</th>\n",
       "    <th>train_loss</th>\n",
       "    <th>valid_loss</th>\n",
       "    <th>accuracy</th>\n",
       "  </tr>\n",
       "  <tr>\n",
       "    <th>1</th>\n",
       "    <th>0.226643</th>\n",
       "    <th>0.187060</th>\n",
       "    <th>0.942400</th>\n",
       "  </tr>\n",
       "  <tr>\n",
       "    <th>2</th>\n",
       "    <th>0.137861</th>\n",
       "    <th>0.282789</th>\n",
       "    <th>0.911200</th>\n",
       "  </tr>\n",
       "  <tr>\n",
       "    <th>3</th>\n",
       "    <th>0.099504</th>\n",
       "    <th>0.122584</th>\n",
       "    <th>0.962900</th>\n",
       "  </tr>\n",
       "  <tr>\n",
       "    <th>4</th>\n",
       "    <th>0.093935</th>\n",
       "    <th>0.165717</th>\n",
       "    <th>0.949800</th>\n",
       "  </tr>\n",
       "  <tr>\n",
       "    <th>5</th>\n",
       "    <th>0.064675</th>\n",
       "    <th>0.089931</th>\n",
       "    <th>0.972500</th>\n",
       "  </tr>\n",
       "  <tr>\n",
       "    <th>6</th>\n",
       "    <th>0.065131</th>\n",
       "    <th>0.084586</th>\n",
       "    <th>0.973800</th>\n",
       "  </tr>\n",
       "  <tr>\n",
       "    <th>7</th>\n",
       "    <th>0.044157</th>\n",
       "    <th>0.024622</th>\n",
       "    <th>0.992800</th>\n",
       "  </tr>\n",
       "  <tr>\n",
       "    <th>8</th>\n",
       "    <th>0.029531</th>\n",
       "    <th>0.026492</th>\n",
       "    <th>0.991700</th>\n",
       "  </tr>\n",
       "  <tr>\n",
       "    <th>9</th>\n",
       "    <th>0.027478</th>\n",
       "    <th>0.017245</th>\n",
       "    <th>0.994500</th>\n",
       "  </tr>\n",
       "  <tr>\n",
       "    <th>10</th>\n",
       "    <th>0.021837</th>\n",
       "    <th>0.015908</th>\n",
       "    <th>0.994600</th>\n",
       "  </tr>\n",
       "</table>\n"
      ],
      "text/plain": [
       "<IPython.core.display.HTML object>"
      ]
     },
     "metadata": {},
     "output_type": "display_data"
    }
   ],
   "source": [
    "learn.fit_one_cycle(10, max_lr=0.05)"
   ]
  },
  {
   "cell_type": "markdown",
   "metadata": {},
   "source": [
    "After 10 epochs, our ResNet block CNN's accuracy of `0.995` continues to exceed the accuracy of `0.992` that our standard CNN achieved by this point"
   ]
  },
  {
   "cell_type": "code",
   "execution_count": 65,
   "metadata": {},
   "outputs": [
    {
     "data": {
      "image/png": "[encoded data removed]",
      "text/plain": [
       "<Figure size 432x288 with 1 Axes>"
      ]
     },
     "metadata": {
      "image/png": {
       "height": 263,
       "width": 387
      },
      "needs_background": "light"
     },
     "output_type": "display_data"
    }
   ],
   "source": [
    "learn.recorder.plot_losses()"
   ]
  },
  {
   "cell_type": "markdown",
   "metadata": {},
   "source": [
    "Finally, let's take a look at the structure of our ResNet block model. We will see that our refactored model indeed allowed us to describe a fairly extensive network, in just a few lines of code."
   ]
  },
  {
   "cell_type": "code",
   "execution_count": 66,
   "metadata": {
    "scrolled": false
   },
   "outputs": [
    {
     "name": "stdout",
     "output_type": "stream",
     "text": [
      "======================================================================\n",
      "Layer (type)         Output Shape         Param #    Trainable \n",
      "======================================================================\n",
      "Conv2d               [128, 8, 14, 14]     72         True      \n",
      "______________________________________________________________________\n",
      "ReLU                 [128, 8, 14, 14]     0          False     \n",
      "______________________________________________________________________\n",
      "BatchNorm2d          [128, 8, 14, 14]     16         True      \n",
      "______________________________________________________________________\n",
      "Conv2d               [128, 8, 14, 14]     576        True      \n",
      "______________________________________________________________________\n",
      "ReLU                 [128, 8, 14, 14]     0          False     \n",
      "______________________________________________________________________\n",
      "BatchNorm2d          [128, 8, 14, 14]     16         True      \n",
      "______________________________________________________________________\n",
      "Conv2d               [128, 8, 14, 14]     576        True      \n",
      "______________________________________________________________________\n",
      "ReLU                 [128, 8, 14, 14]     0          False     \n",
      "______________________________________________________________________\n",
      "BatchNorm2d          [128, 8, 14, 14]     16         True      \n",
      "______________________________________________________________________\n",
      "Conv2d               [128, 16, 7, 7]      1152       True      \n",
      "______________________________________________________________________\n",
      "ReLU                 [128, 16, 7, 7]      0          False     \n",
      "______________________________________________________________________\n",
      "BatchNorm2d          [128, 16, 7, 7]      32         True      \n",
      "______________________________________________________________________\n",
      "Conv2d               [128, 16, 7, 7]      2304       True      \n",
      "______________________________________________________________________\n",
      "ReLU                 [128, 16, 7, 7]      0          False     \n",
      "______________________________________________________________________\n",
      "BatchNorm2d          [128, 16, 7, 7]      32         True      \n",
      "______________________________________________________________________\n",
      "Conv2d               [128, 16, 7, 7]      2304       True      \n",
      "______________________________________________________________________\n",
      "ReLU                 [128, 16, 7, 7]      0          False     \n",
      "______________________________________________________________________\n",
      "BatchNorm2d          [128, 16, 7, 7]      32         True      \n",
      "______________________________________________________________________\n",
      "Conv2d               [128, 32, 4, 4]      4608       True      \n",
      "______________________________________________________________________\n",
      "ReLU                 [128, 32, 4, 4]      0          False     \n",
      "______________________________________________________________________\n",
      "BatchNorm2d          [128, 32, 4, 4]      64         True      \n",
      "______________________________________________________________________\n",
      "Conv2d               [128, 32, 4, 4]      9216       True      \n",
      "______________________________________________________________________\n",
      "ReLU                 [128, 32, 4, 4]      0          False     \n",
      "______________________________________________________________________\n",
      "BatchNorm2d          [128, 32, 4, 4]      64         True      \n",
      "______________________________________________________________________\n",
      "Conv2d               [128, 32, 4, 4]      9216       True      \n",
      "______________________________________________________________________\n",
      "ReLU                 [128, 32, 4, 4]      0          False     \n",
      "______________________________________________________________________\n",
      "BatchNorm2d          [128, 32, 4, 4]      64         True      \n",
      "______________________________________________________________________\n",
      "Conv2d               [128, 16, 2, 2]      4608       True      \n",
      "______________________________________________________________________\n",
      "ReLU                 [128, 16, 2, 2]      0          False     \n",
      "______________________________________________________________________\n",
      "BatchNorm2d          [128, 16, 2, 2]      32         True      \n",
      "______________________________________________________________________\n",
      "Conv2d               [128, 16, 2, 2]      2304       True      \n",
      "______________________________________________________________________\n",
      "ReLU                 [128, 16, 2, 2]      0          False     \n",
      "______________________________________________________________________\n",
      "BatchNorm2d          [128, 16, 2, 2]      32         True      \n",
      "______________________________________________________________________\n",
      "Conv2d               [128, 16, 2, 2]      2304       True      \n",
      "______________________________________________________________________\n",
      "ReLU                 [128, 16, 2, 2]      0          False     \n",
      "______________________________________________________________________\n",
      "BatchNorm2d          [128, 16, 2, 2]      32         True      \n",
      "______________________________________________________________________\n",
      "Conv2d               [128, 10, 1, 1]      1440       True      \n",
      "______________________________________________________________________\n",
      "ReLU                 [128, 10, 1, 1]      0          False     \n",
      "______________________________________________________________________\n",
      "BatchNorm2d          [128, 10, 1, 1]      20         True      \n",
      "______________________________________________________________________\n",
      "Lambda               [128, 10]            0          False     \n",
      "______________________________________________________________________\n",
      "\n",
      "Total params:  41132\n",
      "Total trainable params:  41132\n",
      "Total non-trainable params:  0\n"
     ]
    }
   ],
   "source": [
    "learn.summary()"
   ]
  }
 ],
 "metadata": {
  "kernelspec": {
   "display_name": "Python 3",
   "language": "python",
   "name": "python3"
  },
  "language_info": {
   "codemirror_mode": {
    "name": "ipython",
    "version": 3
   },
   "file_extension": ".py",
   "mimetype": "text/x-python",
   "name": "python",
   "nbconvert_exporter": "python",
   "pygments_lexer": "ipython3",
   "version": "3.7.0"
  }
 },
 "nbformat": 4,
 "nbformat_minor": 2
}
