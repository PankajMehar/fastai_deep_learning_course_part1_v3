{
 "cells": [
  {
   "cell_type": "markdown",
   "metadata": {},
   "source": [
    "# RNNs Aren't *that* Mysterious\n",
    "\n",
    "In this, the final notebook of part I of the fast.ai course, we look at how RNNs, or recurrent neural networks, work. We'll see that unlike a GAN, for example, RNNs actually aren't so different from a standard multi-layer perceptron, or deep neural network. It turns out that there are only a few modifications that make RNNs unique, but these simple tweaks enable the network to do a much better job of understanding and predicting how sequences change over time"
   ]
  },
  {
   "cell_type": "code",
   "execution_count": 4,
   "metadata": {},
   "outputs": [],
   "source": [
    "from fastai import *\n",
    "from fastai.text import *"
   ]
  },
  {
   "cell_type": "code",
   "execution_count": 5,
   "metadata": {},
   "outputs": [],
   "source": [
    "# Get nicer looking graphs for retina displays\n",
    "%config InlineBackend.figure_format = 'retina'"
   ]
  },
  {
   "cell_type": "markdown",
   "metadata": {},
   "source": [
    "## Getting the Dataset\n",
    "\n",
    "We'll use a very simple dataset to compare how deep neural networks, RNNs, and finally RNNs with memory compare in their ability to predict a sequence. \n",
    "\n",
    "Our dataset is simply the numbers one through nine-thousand nine-hundred ninety-nine, written out in text. The best performing network will obviously be the one that most often predicts the right numerical words in the right order."
   ]
  },
  {
   "cell_type": "code",
   "execution_count": 6,
   "metadata": {},
   "outputs": [
    {
     "data": {
      "text/plain": [
       "[PosixPath('/home/jupyter/.fastai/data/human_numbers/valid.txt'),\n",
       " PosixPath('/home/jupyter/.fastai/data/human_numbers/train.txt'),\n",
       " PosixPath('/home/jupyter/.fastai/data/human_numbers/models')]"
      ]
     },
     "execution_count": 6,
     "metadata": {},
     "output_type": "execute_result"
    }
   ],
   "source": [
    "path = untar_data(URLs.HUMAN_NUMBERS)\n",
    "path.ls()"
   ]
  },
  {
   "cell_type": "markdown",
   "metadata": {},
   "source": [
    "A short method to read the numbers from the train/valid text files."
   ]
  },
  {
   "cell_type": "code",
   "execution_count": 7,
   "metadata": {},
   "outputs": [],
   "source": [
    "def readnums(d):\n",
    "    return [', '.join(o.strip() for o in open(path/d).readlines())]"
   ]
  },
  {
   "cell_type": "code",
   "execution_count": 8,
   "metadata": {},
   "outputs": [
    {
     "data": {
      "text/plain": [
       "'one, two, three, four, five, six, seven, eight, nine, ten, eleven, twelve, thirteen'"
      ]
     },
     "execution_count": 8,
     "metadata": {},
     "output_type": "execute_result"
    }
   ],
   "source": [
    "train_txt = readnums('train.txt')\n",
    "train_txt[0][:83]"
   ]
  },
  {
   "cell_type": "code",
   "execution_count": 9,
   "metadata": {},
   "outputs": [
    {
     "data": {
      "text/plain": [
       "'seven thousand nine hundred ninety eight, seven thousand nine hundred ninety nine'"
      ]
     },
     "execution_count": 9,
     "metadata": {},
     "output_type": "execute_result"
    }
   ],
   "source": [
    "train_txt[0][-81:]"
   ]
  },
  {
   "cell_type": "code",
   "execution_count": 10,
   "metadata": {},
   "outputs": [
    {
     "data": {
      "text/plain": [
       "'eight thousand one, eight thousand two, eight thousand three, eight thousand four'"
      ]
     },
     "execution_count": 10,
     "metadata": {},
     "output_type": "execute_result"
    }
   ],
   "source": [
    "valid_txt = readnums('valid.txt')\n",
    "valid_txt[0][:81]"
   ]
  },
  {
   "cell_type": "code",
   "execution_count": 11,
   "metadata": {},
   "outputs": [
    {
     "data": {
      "text/plain": [
       "'nine thousand nine hundred ninety eight, nine thousand nine hundred ninety nine'"
      ]
     },
     "execution_count": 11,
     "metadata": {},
     "output_type": "execute_result"
    }
   ],
   "source": [
    "valid_txt[0][-79:]"
   ]
  },
  {
   "cell_type": "markdown",
   "metadata": {},
   "source": [
    "We see that the training set contains numbers 1 through 7,999, and the validation set contains numbers 8,000 through 9,999. \n",
    "\n",
    "The best algorithm will be able to most accurately write out all the numbers in the validation set in plain text and in the right order."
   ]
  },
  {
   "cell_type": "markdown",
   "metadata": {},
   "source": [
    "## Preparing the Data for Training\n",
    "\n",
    "We'll wrap both the train and valid sets as `TextList()` objects and place both inside a data bunch."
   ]
  },
  {
   "cell_type": "code",
   "execution_count": 12,
   "metadata": {},
   "outputs": [],
   "source": [
    "bs = 64"
   ]
  },
  {
   "cell_type": "code",
   "execution_count": 13,
   "metadata": {},
   "outputs": [],
   "source": [
    "train = TextList(train_txt, path=path)\n",
    "valid = TextList(valid_txt, path=path)\n",
    "\n",
    "src = ItemLists(path=path, train=train, valid=valid).label_for_lm()\n",
    "data = src.databunch(bs=bs)"
   ]
  },
  {
   "cell_type": "markdown",
   "metadata": {},
   "source": [
    "We'll run some quick sanity checks to verify that our data is stored, and that batches are generated, in the manner we expect."
   ]
  },
  {
   "cell_type": "code",
   "execution_count": 14,
   "metadata": {},
   "outputs": [
    {
     "data": {
      "text/plain": [
       "'xxbos one , two , three , four , five , six , seven , eight , nine , ten , eleven'"
      ]
     },
     "execution_count": 14,
     "metadata": {},
     "output_type": "execute_result"
    }
   ],
   "source": [
    "data.train_ds[0][0].text[:81]"
   ]
  },
  {
   "cell_type": "code",
   "execution_count": 15,
   "metadata": {},
   "outputs": [
    {
     "data": {
      "text/plain": [
       "array([ 2, 11,  8, 12, ..., 19,  9, 27, 19])"
      ]
     },
     "execution_count": 15,
     "metadata": {},
     "output_type": "execute_result"
    }
   ],
   "source": [
    "data.train_ds[0][0].data"
   ]
  },
  {
   "cell_type": "markdown",
   "metadata": {},
   "source": [
    "Notice how the fastai library automatically tokenizes our text data's vocabulary for us."
   ]
  },
  {
   "cell_type": "code",
   "execution_count": 16,
   "metadata": {},
   "outputs": [
    {
     "data": {
      "text/plain": [
       "50079"
      ]
     },
     "execution_count": 16,
     "metadata": {},
     "output_type": "execute_result"
    }
   ],
   "source": [
    "len(data.train_ds[0][0].data)"
   ]
  },
  {
   "cell_type": "code",
   "execution_count": 17,
   "metadata": {},
   "outputs": [
    {
     "data": {
      "text/plain": [
       "'xxbos eight thousand one , eight thousand two , eight thousand three , eight thousand four'"
      ]
     },
     "execution_count": 17,
     "metadata": {},
     "output_type": "execute_result"
    }
   ],
   "source": [
    "data.valid_ds[0][0].text[:90]"
   ]
  },
  {
   "cell_type": "code",
   "execution_count": 18,
   "metadata": {},
   "outputs": [
    {
     "data": {
      "text/plain": [
       "'nine thousand nine hundred ninety eight , nine thousand nine hundred ninety nine'"
      ]
     },
     "execution_count": 18,
     "metadata": {},
     "output_type": "execute_result"
    }
   ],
   "source": [
    "data.valid_ds[0][0].text[-80:]"
   ]
  },
  {
   "cell_type": "code",
   "execution_count": 19,
   "metadata": {},
   "outputs": [
    {
     "data": {
      "text/plain": [
       "array([ 2, 18, 10, 11, ..., 19,  9, 27, 19])"
      ]
     },
     "execution_count": 19,
     "metadata": {},
     "output_type": "execute_result"
    }
   ],
   "source": [
    "data.valid_ds[0][0].data"
   ]
  },
  {
   "cell_type": "code",
   "execution_count": 20,
   "metadata": {},
   "outputs": [
    {
     "data": {
      "text/plain": [
       "13017"
      ]
     },
     "execution_count": 20,
     "metadata": {},
     "output_type": "execute_result"
    }
   ],
   "source": [
    "valid_len = len(data.valid_ds[0][0].data); valid_len"
   ]
  },
  {
   "cell_type": "markdown",
   "metadata": {},
   "source": [
    "We'll use the fastai default sequence length of 70. This means that the previous 70 words are used to predict each subsequent word. The `bptt`, or back propagation through time, parameter is used to specify this.\n",
    "\n",
    "When calculating sequence length for each batch, fastai slightly, randomly perturbs this value such that sequence length varies from batch to batch."
   ]
  },
  {
   "cell_type": "code",
   "execution_count": 21,
   "metadata": {},
   "outputs": [
    {
     "data": {
      "text/plain": [
       "70"
      ]
     },
     "execution_count": 21,
     "metadata": {},
     "output_type": "execute_result"
    }
   ],
   "source": [
    "data.bptt"
   ]
  },
  {
   "cell_type": "markdown",
   "metadata": {},
   "source": [
    "With a batch size of 64 and sequence length of 70, it will take three iterations to predict each word in the validation set."
   ]
  },
  {
   "cell_type": "code",
   "execution_count": 22,
   "metadata": {},
   "outputs": [
    {
     "data": {
      "text/plain": [
       "2.905580357142857"
      ]
     },
     "execution_count": 22,
     "metadata": {},
     "output_type": "execute_result"
    }
   ],
   "source": [
    "valid_len/data.bptt/bs"
   ]
  },
  {
   "cell_type": "markdown",
   "metadata": {},
   "source": [
    "Let's see what these three iterarions through the validation set would look like."
   ]
  },
  {
   "cell_type": "code",
   "execution_count": 23,
   "metadata": {},
   "outputs": [],
   "source": [
    "it = iter(data.valid_dl)\n",
    "x1,y1 = next(it)\n",
    "x2,y2 = next(it)\n",
    "x3,y3 = next(it)\n",
    "it.close()"
   ]
  },
  {
   "cell_type": "code",
   "execution_count": 24,
   "metadata": {},
   "outputs": [
    {
     "data": {
      "text/plain": [
       "(6080, 5056, 1792)"
      ]
     },
     "execution_count": 24,
     "metadata": {},
     "output_type": "execute_result"
    }
   ],
   "source": [
    "x1.numel(), x2.numel(), x3.numel()"
   ]
  },
  {
   "cell_type": "code",
   "execution_count": 25,
   "metadata": {},
   "outputs": [
    {
     "data": {
      "text/plain": [
       "12928"
      ]
     },
     "execution_count": 25,
     "metadata": {},
     "output_type": "execute_result"
    }
   ],
   "source": [
    "x1.numel() + x2.numel() + x3.numel()"
   ]
  },
  {
   "cell_type": "code",
   "execution_count": 26,
   "metadata": {},
   "outputs": [
    {
     "data": {
      "text/plain": [
       "(torch.Size([95, 64]), torch.Size([95, 64]))"
      ]
     },
     "execution_count": 26,
     "metadata": {},
     "output_type": "execute_result"
    }
   ],
   "source": [
    "x1.shape, y1.shape"
   ]
  },
  {
   "cell_type": "code",
   "execution_count": 27,
   "metadata": {},
   "outputs": [
    {
     "data": {
      "text/plain": [
       "(torch.Size([79, 64]), torch.Size([79, 64]))"
      ]
     },
     "execution_count": 27,
     "metadata": {},
     "output_type": "execute_result"
    }
   ],
   "source": [
    "x2.shape, y2.shape"
   ]
  },
  {
   "cell_type": "code",
   "execution_count": 28,
   "metadata": {},
   "outputs": [
    {
     "data": {
      "text/plain": [
       "(torch.Size([28, 64]), torch.Size([28, 64]))"
      ]
     },
     "execution_count": 28,
     "metadata": {},
     "output_type": "execute_result"
    }
   ],
   "source": [
    "x3.shape, y3.shape"
   ]
  },
  {
   "cell_type": "code",
   "execution_count": 29,
   "metadata": {},
   "outputs": [
    {
     "data": {
      "text/plain": [
       "tensor([ 2, 18, 10, 11,  8, 18, 10, 12,  8, 18, 10, 13,  8, 18, 10, 14,  8, 18,\n",
       "        10, 15,  8, 18, 10, 16,  8, 18, 10, 17,  8, 18, 10, 18,  8, 18, 10, 19,\n",
       "         8, 18, 10, 28,  8, 18, 10, 29,  8, 18, 10, 30,  8, 18, 10, 31,  8, 18,\n",
       "        10, 32,  8, 18, 10, 33,  8, 18, 10, 34,  8, 18, 10, 35,  8, 18, 10, 36,\n",
       "         8, 18, 10, 37,  8, 18, 10, 20,  8, 18, 10, 20, 11,  8, 18, 10, 20, 12,\n",
       "         8, 18, 10, 20, 13], device='cuda:0')"
      ]
     },
     "execution_count": 29,
     "metadata": {},
     "output_type": "execute_result"
    }
   ],
   "source": [
    "x1[:,0]"
   ]
  },
  {
   "cell_type": "code",
   "execution_count": 30,
   "metadata": {},
   "outputs": [
    {
     "data": {
      "text/plain": [
       "tensor([18, 10, 11,  8, 18, 10, 12,  8, 18, 10, 13,  8, 18, 10, 14,  8, 18, 10,\n",
       "        15,  8, 18, 10, 16,  8, 18, 10, 17,  8, 18, 10, 18,  8, 18, 10, 19,  8,\n",
       "        18, 10, 28,  8, 18, 10, 29,  8, 18, 10, 30,  8, 18, 10, 31,  8, 18, 10,\n",
       "        32,  8, 18, 10, 33,  8, 18, 10, 34,  8, 18, 10, 35,  8, 18, 10, 36,  8,\n",
       "        18, 10, 37,  8, 18, 10, 20,  8, 18, 10, 20, 11,  8, 18, 10, 20, 12,  8,\n",
       "        18, 10, 20, 13,  8], device='cuda:0')"
      ]
     },
     "execution_count": 30,
     "metadata": {},
     "output_type": "execute_result"
    }
   ],
   "source": [
    "y1[:,0]"
   ]
  },
  {
   "cell_type": "markdown",
   "metadata": {},
   "source": [
    "Notice how the values of labels, the columns in `y1`, are nearly identical to each corresponding column of the inputs, `x1`, but offset by one position. This is because for each word, the model is trying to correctly predict the next word in the sequence.\n",
    "\n",
    "Notice also how each batch contains 64 sequences in columns (not the rows!) that contain consecutive numbers written as text. \n",
    "\n",
    "Finally, also notice that the lengths of the sequences in each batch vary from one iteration to the next."
   ]
  },
  {
   "cell_type": "code",
   "execution_count": 31,
   "metadata": {},
   "outputs": [],
   "source": [
    "v = data.valid_ds.vocab"
   ]
  },
  {
   "cell_type": "code",
   "execution_count": 32,
   "metadata": {},
   "outputs": [
    {
     "data": {
      "text/plain": [
       "'xxbos eight thousand one , eight thousand two , eight thousand three , eight thousand four , eight thousand five , eight thousand six , eight thousand seven , eight thousand eight , eight thousand nine , eight thousand ten , eight thousand eleven , eight thousand twelve , eight thousand thirteen , eight thousand fourteen , eight thousand fifteen , eight thousand sixteen , eight thousand seventeen , eight thousand eighteen , eight thousand nineteen , eight thousand twenty , eight thousand twenty one , eight thousand twenty two , eight thousand twenty three'"
      ]
     },
     "execution_count": 32,
     "metadata": {},
     "output_type": "execute_result"
    }
   ],
   "source": [
    "v.textify(x1[:,0])"
   ]
  },
  {
   "cell_type": "code",
   "execution_count": 33,
   "metadata": {},
   "outputs": [
    {
     "data": {
      "text/plain": [
       "', eight thousand twenty four , eight thousand twenty five , eight thousand twenty six , eight thousand twenty seven , eight thousand twenty eight , eight thousand twenty nine , eight thousand thirty , eight thousand thirty one , eight thousand thirty two , eight thousand thirty three , eight thousand thirty four , eight thousand thirty five , eight thousand thirty six , eight thousand thirty seven , eight thousand thirty eight , eight thousand thirty nine'"
      ]
     },
     "execution_count": 33,
     "metadata": {},
     "output_type": "execute_result"
    }
   ],
   "source": [
    "v.textify(x2[:,0])"
   ]
  },
  {
   "cell_type": "code",
   "execution_count": 34,
   "metadata": {},
   "outputs": [
    {
     "data": {
      "text/plain": [
       "', eight thousand forty , eight thousand forty one , eight thousand forty two , eight thousand forty three , eight thousand forty four , eight thousand forty'"
      ]
     },
     "execution_count": 34,
     "metadata": {},
     "output_type": "execute_result"
    }
   ],
   "source": [
    "v.textify(x3[:,0])"
   ]
  },
  {
   "cell_type": "code",
   "execution_count": 35,
   "metadata": {},
   "outputs": [
    {
     "data": {
      "text/plain": [
       "', eight thousand forty six , eight thousand forty seven , eight thousand forty eight , eight thousand forty nine , eight thousand fifty , eight thousand fifty one , eight thousand fifty two , eight thousand fifty three , eight thousand fifty four , eight thousand fifty five , eight thousand fifty six , eight thousand fifty seven , eight thousand fifty eight , eight thousand fifty nine , eight thousand sixty , eight thousand sixty one , eight thousand sixty two , eight thousand sixty three , eight thousand sixty four , eight'"
      ]
     },
     "execution_count": 35,
     "metadata": {},
     "output_type": "execute_result"
    }
   ],
   "source": [
    "v.textify(x1[:,1])"
   ]
  },
  {
   "cell_type": "code",
   "execution_count": 36,
   "metadata": {},
   "outputs": [
    {
     "data": {
      "text/plain": [
       "'thousand sixty five , eight thousand sixty six , eight thousand sixty seven , eight thousand sixty eight , eight thousand sixty nine , eight thousand seventy , eight thousand seventy one , eight thousand seventy two , eight thousand seventy three , eight thousand seventy four , eight thousand seventy five , eight thousand seventy six , eight thousand seventy seven , eight thousand seventy eight , eight thousand seventy nine , eight thousand eighty , eight thousand'"
      ]
     },
     "execution_count": 36,
     "metadata": {},
     "output_type": "execute_result"
    }
   ],
   "source": [
    "v.textify(x2[:,1])"
   ]
  },
  {
   "cell_type": "code",
   "execution_count": 37,
   "metadata": {},
   "outputs": [
    {
     "data": {
      "text/plain": [
       "'eighty one , eight thousand eighty two , eight thousand eighty three , eight thousand eighty four , eight thousand eighty five , eight thousand eighty six ,'"
      ]
     },
     "execution_count": 37,
     "metadata": {},
     "output_type": "execute_result"
    }
   ],
   "source": [
    "v.textify(x3[:,1])"
   ]
  },
  {
   "cell_type": "markdown",
   "metadata": {},
   "source": [
    "Also important to observe: the columns, or text sequences in each batch are not themselves sequential. The data is loaded such that the first column in the first batch directly precedes the first column of the second batch, which itself directly precedes the first column of the third batch. \n",
    "\n",
    "Notice that there are a small amount of words in the validation set that we don't make predictions for. For example, observe above that there is a bit of a gap between the end of the first sequence of the third batch:\n",
    "```\n",
    "..., eight thousand forty two , eight thousand forty three , eight\n",
    "```\n",
    "and the second sequence of the first batch:\n",
    "```\n",
    "..., eight thousand forty six , eight thousand forty seven ,\n",
    "```\n",
    "What happened to the missing text, why was it omitted? Well, fastai has a [SortishSampler()](https://github.com/fastai/fastai/blob/21bfa52385d684df758dbe748098c66f1e8cbd3e/fastai/text/data.py) class that adds a bit of randomness into how it samples data from the dataset. I believe this is why we see the gap described just above, as well as why our final batch doesn't quite predict the last few words of the validation set, but instead stops here:\n",
    "\n",
    "```\n",
    "nine thousand nine hundred ninety four , nine thousand nine hundred ninety five , nine\n",
    "```\n",
    "\n",
    "Additionally, why is the data staggered in between batches the way it is? Doesn't it make sense to have each sequence, or column, in the first batch contain consecutive rows of text, and so on and so forth for the rest of the batches? In other words, How come the first batch doesn't handle the first third of the validation set's text, followed by the second batch handling the second third, and finally the third and final batch containing the last third of the validation text?\n",
    "\n",
    "Well, if we're only training on only one GPU, the data loader's approach does seem pretty counter-intuitive. If we only have one GPU we obviously train each batch *sequentially* and having each batch contain text snippets from the first, second, and third parts of the validation set seems like it makes things unnecessarily confusing.\n",
    "\n",
    "However, what if we had three GPUs? This would mean that we could train all three batches *simultaneously*. If this were the case, it becomes much clearer why our data loader works the way it does. We need to be able to potentially load and train all an epoch's batches at the same time. \n",
    "\n",
    "This is why our data loader first calculates, given a specific batch size and sequence length (basically, the `bptt` value, but perturbed by a bit of randomness as we'll discuss in a minute), how many iterations (or batches) need to be run such that all, or as much as possible, of the data could be trained at the same time, and such that each batch will be full. The data loader then staggers the data it enters into each batch: the sequences of a given column are perfectly sequential across all batches, however if you take, for example, a super-column 0 that consists of all the sequences in the column at index 0 of each batch, and then super-column 1 that consists of all the sequences in column 1 of each batch, you'll find that there may be a small gap between super-column 0 and super-column 1. (This is what we described just above.) \n",
    "\n",
    "One final question remains: if we run the above iterator multiple times, we see that the sequence lengths of the batches fluctuate somewhat randomly. I believe that this is because fastai's [LanguageModelLoader()](https://github.com/fastai/fastai/blob/21bfa52385d684df758dbe748098c66f1e8cbd3e/fastai/text/data.py) class randomly perturbs the `bptt` value for each batch. This is why different batches have different lengths."
   ]
  },
  {
   "cell_type": "code",
   "execution_count": 38,
   "metadata": {},
   "outputs": [
    {
     "data": {
      "text/plain": [
       "', nine thousand nine hundred sixty seven , nine thousand nine hundred sixty eight , nine thousand nine hundred sixty nine , nine thousand nine hundred seventy , nine thousand nine hundred seventy one , nine thousand nine hundred seventy two , nine thousand nine hundred seventy three , nine thousand nine hundred seventy four , nine thousand nine hundred seventy five , nine thousand nine hundred seventy six , nine thousand nine hundred seventy seven , nine thousand nine hundred seventy eight , nine thousand nine hundred seventy nine , nine thousand nine hundred'"
      ]
     },
     "execution_count": 38,
     "metadata": {},
     "output_type": "execute_result"
    }
   ],
   "source": [
    "v.textify(x1[:,-1])"
   ]
  },
  {
   "cell_type": "code",
   "execution_count": 39,
   "metadata": {},
   "outputs": [
    {
     "data": {
      "text/plain": [
       "'eighty , nine thousand nine hundred eighty one , nine thousand nine hundred eighty two , nine thousand nine hundred eighty three , nine thousand nine hundred eighty four , nine thousand nine hundred eighty five , nine thousand nine hundred eighty six , nine thousand nine hundred eighty seven , nine thousand nine hundred eighty eight , nine thousand nine hundred eighty nine , nine thousand nine hundred ninety , nine thousand nine hundred ninety one , nine'"
      ]
     },
     "execution_count": 39,
     "metadata": {},
     "output_type": "execute_result"
    }
   ],
   "source": [
    "v.textify(x2[:,-1])"
   ]
  },
  {
   "cell_type": "code",
   "execution_count": 40,
   "metadata": {},
   "outputs": [
    {
     "data": {
      "text/plain": [
       "'thousand nine hundred ninety two , nine thousand nine hundred ninety three , nine thousand nine hundred ninety four , nine thousand nine hundred ninety five , nine'"
      ]
     },
     "execution_count": 40,
     "metadata": {},
     "output_type": "execute_result"
    }
   ],
   "source": [
    "v.textify(x3[:,-1])"
   ]
  },
  {
   "cell_type": "code",
   "execution_count": 41,
   "metadata": {},
   "outputs": [
    {
     "data": {
      "text/html": [
       "<table>  <col width='5%'>  <col width='95%'>  <tr>\n",
       "    <th>idx</th>\n",
       "    <th>text</th>\n",
       "  </tr>\n",
       "  <tr>\n",
       "    <th>0</th>\n",
       "    <th>xxbos eight thousand one , eight thousand two , eight thousand three , eight thousand four , eight thousand five , eight thousand six , eight thousand seven , eight thousand eight , eight thousand nine , eight thousand ten , eight thousand eleven , eight thousand twelve , eight thousand thirteen , eight thousand fourteen , eight thousand fifteen , eight thousand sixteen ,</th>\n",
       "  </tr>\n",
       "  <tr>\n",
       "    <th>1</th>\n",
       "    <th>, eight thousand forty six , eight thousand forty seven , eight thousand forty eight , eight thousand forty nine , eight thousand fifty , eight thousand fifty one , eight thousand fifty two , eight thousand fifty three , eight thousand fifty four , eight thousand fifty five , eight thousand fifty six , eight thousand fifty seven , eight thousand fifty eight ,</th>\n",
       "  </tr>\n",
       "  <tr>\n",
       "    <th>2</th>\n",
       "    <th>thousand eighty seven , eight thousand eighty eight , eight thousand eighty nine , eight thousand ninety , eight thousand ninety one , eight thousand ninety two , eight thousand ninety three , eight thousand ninety four , eight thousand ninety five , eight thousand ninety six , eight thousand ninety seven , eight thousand ninety eight , eight thousand ninety nine , eight thousand</th>\n",
       "  </tr>\n",
       "  <tr>\n",
       "    <th>3</th>\n",
       "    <th>thousand one hundred twenty three , eight thousand one hundred twenty four , eight thousand one hundred twenty five , eight thousand one hundred twenty six , eight thousand one hundred twenty seven , eight thousand one hundred twenty eight , eight thousand one hundred twenty nine , eight thousand one hundred thirty , eight thousand one hundred thirty one , eight thousand one hundred</th>\n",
       "  </tr>\n",
       "  <tr>\n",
       "    <th>4</th>\n",
       "    <th>fifty two , eight thousand one hundred fifty three , eight thousand one hundred fifty four , eight thousand one hundred fifty five , eight thousand one hundred fifty six , eight thousand one hundred fifty seven , eight thousand one hundred fifty eight , eight thousand one hundred fifty nine , eight thousand one hundred sixty , eight thousand one hundred sixty one ,</th>\n",
       "  </tr>\n",
       "</table>\n"
      ],
      "text/plain": [
       "<IPython.core.display.HTML object>"
      ]
     },
     "metadata": {},
     "output_type": "display_data"
    }
   ],
   "source": [
    "data.show_batch(ds_type=DatasetType.Valid)"
   ]
  },
  {
   "cell_type": "markdown",
   "metadata": {},
   "source": [
    "## Training a Single Fully-Connected Model\n",
    "\n",
    "As a baseline, we'll first train a model that is able to look at a maximum of three previous words and predict the next single word that it thinks should appear in the sequence."
   ]
  },
  {
   "cell_type": "code",
   "execution_count": 114,
   "metadata": {},
   "outputs": [],
   "source": [
    "data = src.databunch(bs=bs, bptt=3, max_len=0, p_bptt=1.)"
   ]
  },
  {
   "cell_type": "code",
   "execution_count": 115,
   "metadata": {},
   "outputs": [
    {
     "data": {
      "text/plain": [
       "(torch.Size([3, 64]), torch.Size([3, 64]))"
      ]
     },
     "execution_count": 115,
     "metadata": {},
     "output_type": "execute_result"
    }
   ],
   "source": [
    "x,y = data.one_batch()\n",
    "x.shape, y.shape"
   ]
  },
  {
   "cell_type": "markdown",
   "metadata": {},
   "source": [
    "Let's verify the size of our vocabulary in our validation set."
   ]
  },
  {
   "cell_type": "code",
   "execution_count": 116,
   "metadata": {},
   "outputs": [
    {
     "data": {
      "text/plain": [
       "38"
      ]
     },
     "execution_count": 116,
     "metadata": {},
     "output_type": "execute_result"
    }
   ],
   "source": [
    "nv = len(v.itos); nv"
   ]
  },
  {
   "cell_type": "markdown",
   "metadata": {},
   "source": [
    "We also need to specify the size of our vocabulary embedding vectors."
   ]
  },
  {
   "cell_type": "code",
   "execution_count": 117,
   "metadata": {},
   "outputs": [],
   "source": [
    "nh=64"
   ]
  },
  {
   "cell_type": "markdown",
   "metadata": {},
   "source": [
    "We'll use a cross entropy loss function."
   ]
  },
  {
   "cell_type": "code",
   "execution_count": 118,
   "metadata": {},
   "outputs": [],
   "source": [
    "def loss4(input, target):\n",
    "    return F.cross_entropy(input, target[-1])"
   ]
  },
  {
   "cell_type": "markdown",
   "metadata": {},
   "source": [
    "And we'll use accuracy as our metric."
   ]
  },
  {
   "cell_type": "code",
   "execution_count": 119,
   "metadata": {},
   "outputs": [],
   "source": [
    "def acc4(input, target):\n",
    "    return accuracy(input, target[-1])"
   ]
  },
  {
   "cell_type": "markdown",
   "metadata": {},
   "source": [
    "Here's the single model's architecture."
   ]
  },
  {
   "cell_type": "code",
   "execution_count": 120,
   "metadata": {},
   "outputs": [],
   "source": [
    "class Model0(nn.Module):\n",
    "    def __init__(self):\n",
    "        super().__init__()\n",
    "        self.i_h = nn.Embedding(nv,nh) # input dim: vocab size x embedding size\n",
    "        self.h_h = nn.Linear(nh,nh) # hidden layer dim: embedding size x embedding size\n",
    "        self.h_o = nn.Linear(nh,nv) # output dim: 1 x vocab size\n",
    "        self.bn = nn.BatchNorm1d(nh)\n",
    "        \n",
    "    def forward(self, x):\n",
    "        h = self.bn(F.relu(self.i_h(x[0]))) # earliest word in the sequence\n",
    "        if x.shape[0] > 1: \n",
    "            h += self.i_h(x[1]) # next word in the sequence if sequence length at least 2\n",
    "            h = self.bn(F.relu(self.h_h(h)))\n",
    "        if x.shape[0] > 2:\n",
    "            h += self.i_h(x[2]) # third word in the sequence if sequence length is three or more\n",
    "            h = self.bn(F.relu(self.h_h(h)))\n",
    "        return self.h_o(h) # prediction of next word"
   ]
  },
  {
   "cell_type": "code",
   "execution_count": 121,
   "metadata": {},
   "outputs": [],
   "source": [
    "learn = Learner(data, Model0(), loss_func=loss4, metrics=acc4)"
   ]
  },
  {
   "cell_type": "code",
   "execution_count": 122,
   "metadata": {},
   "outputs": [
    {
     "data": {
      "text/html": [
       "Total time: 00:05 <p><table style='width:300px; margin-bottom:10px'>\n",
       "  <tr>\n",
       "    <th>epoch</th>\n",
       "    <th>train_loss</th>\n",
       "    <th>valid_loss</th>\n",
       "    <th>acc4</th>\n",
       "  </tr>\n",
       "  <tr>\n",
       "    <th>1</th>\n",
       "    <th>3.569693</th>\n",
       "    <th>3.632763</th>\n",
       "    <th>0.095452</th>\n",
       "  </tr>\n",
       "  <tr>\n",
       "    <th>2</th>\n",
       "    <th>3.015517</th>\n",
       "    <th>3.167745</th>\n",
       "    <th>0.312113</th>\n",
       "  </tr>\n",
       "  <tr>\n",
       "    <th>3</th>\n",
       "    <th>2.464310</th>\n",
       "    <th>2.693911</th>\n",
       "    <th>0.434715</th>\n",
       "  </tr>\n",
       "  <tr>\n",
       "    <th>4</th>\n",
       "    <th>2.156650</th>\n",
       "    <th>2.432338</th>\n",
       "    <th>0.454904</th>\n",
       "  </tr>\n",
       "  <tr>\n",
       "    <th>5</th>\n",
       "    <th>2.039350</th>\n",
       "    <th>2.340825</th>\n",
       "    <th>0.456064</th>\n",
       "  </tr>\n",
       "  <tr>\n",
       "    <th>6</th>\n",
       "    <th>2.015368</th>\n",
       "    <th>2.327559</th>\n",
       "    <th>0.456064</th>\n",
       "  </tr>\n",
       "</table>\n"
      ],
      "text/plain": [
       "<IPython.core.display.HTML object>"
      ]
     },
     "metadata": {},
     "output_type": "display_data"
    }
   ],
   "source": [
    "learn.fit_one_cycle(6, 1e-4)"
   ]
  },
  {
   "cell_type": "markdown",
   "metadata": {},
   "source": [
    "## Refactoring the single output model with a for-loop\n",
    "\n",
    "Refactoring by adding a for-loop to replace the consecutive conditional statements means we can build a model that looks at as long a sequence of previous words as we'd like.\n",
    "\n",
    "However, we'll find that even though our architecture is more flexible, merely increasing the length of the sequence of previous words (on which the prediction is based) doesn't really increase accuracy above a certain ceiling."
   ]
  },
  {
   "cell_type": "code",
   "execution_count": 62,
   "metadata": {},
   "outputs": [],
   "source": [
    "class Model1(nn.Module):\n",
    "    def __init__(self):\n",
    "        super().__init__()\n",
    "        self.i_h = nn.Embedding(nv,nh)\n",
    "        self.h_h = nn.Linear(nh,nh)\n",
    "        self.h_o = nn.Linear(nh,nv)\n",
    "        self.bn = nn.BatchNorm1d(nh)\n",
    "        \n",
    "    def forward(self, x):\n",
    "        h = torch.zeros(x.shape[1], nh).to(device=x.device)\n",
    "        for xi in x:\n",
    "            h += self.i_h(xi)\n",
    "            h = self.bn(F.relu(self.h_h(h)))\n",
    "        return self.h_o(h)"
   ]
  },
  {
   "cell_type": "code",
   "execution_count": 63,
   "metadata": {},
   "outputs": [],
   "source": [
    "seq_lens = [3, 5, 10, 15, 20, 25, 30]\n",
    "accs = []"
   ]
  },
  {
   "cell_type": "code",
   "execution_count": 64,
   "metadata": {},
   "outputs": [
    {
     "data": {
      "text/html": [
       "Total time: 00:05 <p><table style='width:300px; margin-bottom:10px'>\n",
       "  <tr>\n",
       "    <th>epoch</th>\n",
       "    <th>train_loss</th>\n",
       "    <th>valid_loss</th>\n",
       "    <th>acc4</th>\n",
       "  </tr>\n",
       "  <tr>\n",
       "    <th>1</th>\n",
       "    <th>3.653992</th>\n",
       "    <th>3.588666</th>\n",
       "    <th>0.045483</th>\n",
       "  </tr>\n",
       "  <tr>\n",
       "    <th>2</th>\n",
       "    <th>3.061126</th>\n",
       "    <th>2.972242</th>\n",
       "    <th>0.435257</th>\n",
       "  </tr>\n",
       "  <tr>\n",
       "    <th>3</th>\n",
       "    <th>2.465780</th>\n",
       "    <th>2.447727</th>\n",
       "    <th>0.455213</th>\n",
       "  </tr>\n",
       "  <tr>\n",
       "    <th>4</th>\n",
       "    <th>2.161273</th>\n",
       "    <th>2.218183</th>\n",
       "    <th>0.462020</th>\n",
       "  </tr>\n",
       "  <tr>\n",
       "    <th>5</th>\n",
       "    <th>2.045771</th>\n",
       "    <th>2.144492</th>\n",
       "    <th>0.462717</th>\n",
       "  </tr>\n",
       "  <tr>\n",
       "    <th>6</th>\n",
       "    <th>2.021876</th>\n",
       "    <th>2.134127</th>\n",
       "    <th>0.462717</th>\n",
       "  </tr>\n",
       "</table>\n"
      ],
      "text/plain": [
       "<IPython.core.display.HTML object>"
      ]
     },
     "metadata": {},
     "output_type": "display_data"
    },
    {
     "data": {
      "text/html": [
       "Total time: 00:04 <p><table style='width:300px; margin-bottom:10px'>\n",
       "  <tr>\n",
       "    <th>epoch</th>\n",
       "    <th>train_loss</th>\n",
       "    <th>valid_loss</th>\n",
       "    <th>acc4</th>\n",
       "  </tr>\n",
       "  <tr>\n",
       "    <th>1</th>\n",
       "    <th>3.645077</th>\n",
       "    <th>3.577661</th>\n",
       "    <th>0.030709</th>\n",
       "  </tr>\n",
       "  <tr>\n",
       "    <th>2</th>\n",
       "    <th>3.419771</th>\n",
       "    <th>3.389477</th>\n",
       "    <th>0.165996</th>\n",
       "  </tr>\n",
       "  <tr>\n",
       "    <th>3</th>\n",
       "    <th>3.109731</th>\n",
       "    <th>3.152283</th>\n",
       "    <th>0.309174</th>\n",
       "  </tr>\n",
       "  <tr>\n",
       "    <th>4</th>\n",
       "    <th>2.855882</th>\n",
       "    <th>2.974050</th>\n",
       "    <th>0.399752</th>\n",
       "  </tr>\n",
       "  <tr>\n",
       "    <th>5</th>\n",
       "    <th>2.719687</th>\n",
       "    <th>2.893512</th>\n",
       "    <th>0.416538</th>\n",
       "  </tr>\n",
       "  <tr>\n",
       "    <th>6</th>\n",
       "    <th>2.682369</th>\n",
       "    <th>2.881228</th>\n",
       "    <th>0.418858</th>\n",
       "  </tr>\n",
       "</table>\n"
      ],
      "text/plain": [
       "<IPython.core.display.HTML object>"
      ]
     },
     "metadata": {},
     "output_type": "display_data"
    },
    {
     "data": {
      "text/html": [
       "Total time: 00:02 <p><table style='width:300px; margin-bottom:10px'>\n",
       "  <tr>\n",
       "    <th>epoch</th>\n",
       "    <th>train_loss</th>\n",
       "    <th>valid_loss</th>\n",
       "    <th>acc4</th>\n",
       "  </tr>\n",
       "  <tr>\n",
       "    <th>1</th>\n",
       "    <th>3.699257</th>\n",
       "    <th>3.621581</th>\n",
       "    <th>0.050446</th>\n",
       "  </tr>\n",
       "  <tr>\n",
       "    <th>2</th>\n",
       "    <th>3.576452</th>\n",
       "    <th>3.445851</th>\n",
       "    <th>0.109640</th>\n",
       "  </tr>\n",
       "  <tr>\n",
       "    <th>3</th>\n",
       "    <th>3.375450</th>\n",
       "    <th>3.252115</th>\n",
       "    <th>0.269920</th>\n",
       "  </tr>\n",
       "  <tr>\n",
       "    <th>4</th>\n",
       "    <th>3.194634</th>\n",
       "    <th>3.197654</th>\n",
       "    <th>0.284157</th>\n",
       "  </tr>\n",
       "  <tr>\n",
       "    <th>5</th>\n",
       "    <th>3.098958</th>\n",
       "    <th>3.139398</th>\n",
       "    <th>0.315365</th>\n",
       "  </tr>\n",
       "  <tr>\n",
       "    <th>6</th>\n",
       "    <th>3.037761</th>\n",
       "    <th>3.134735</th>\n",
       "    <th>0.332197</th>\n",
       "  </tr>\n",
       "</table>\n"
      ],
      "text/plain": [
       "<IPython.core.display.HTML object>"
      ]
     },
     "metadata": {},
     "output_type": "display_data"
    },
    {
     "data": {
      "text/html": [
       "Total time: 00:02 <p><table style='width:300px; margin-bottom:10px'>\n",
       "  <tr>\n",
       "    <th>epoch</th>\n",
       "    <th>train_loss</th>\n",
       "    <th>valid_loss</th>\n",
       "    <th>acc4</th>\n",
       "  </tr>\n",
       "  <tr>\n",
       "    <th>1</th>\n",
       "    <th>3.621881</th>\n",
       "    <th>3.559428</th>\n",
       "    <th>0.052028</th>\n",
       "  </tr>\n",
       "  <tr>\n",
       "    <th>2</th>\n",
       "    <th>3.563388</th>\n",
       "    <th>3.460288</th>\n",
       "    <th>0.092697</th>\n",
       "  </tr>\n",
       "  <tr>\n",
       "    <th>3</th>\n",
       "    <th>3.469907</th>\n",
       "    <th>3.390268</th>\n",
       "    <th>0.175155</th>\n",
       "  </tr>\n",
       "  <tr>\n",
       "    <th>4</th>\n",
       "    <th>3.373523</th>\n",
       "    <th>3.347188</th>\n",
       "    <th>0.220446</th>\n",
       "  </tr>\n",
       "  <tr>\n",
       "    <th>5</th>\n",
       "    <th>3.308006</th>\n",
       "    <th>3.321787</th>\n",
       "    <th>0.273883</th>\n",
       "  </tr>\n",
       "  <tr>\n",
       "    <th>6</th>\n",
       "    <th>3.265693</th>\n",
       "    <th>3.283126</th>\n",
       "    <th>0.283913</th>\n",
       "  </tr>\n",
       "</table>\n"
      ],
      "text/plain": [
       "<IPython.core.display.HTML object>"
      ]
     },
     "metadata": {},
     "output_type": "display_data"
    },
    {
     "data": {
      "text/html": [
       "Total time: 00:02 <p><table style='width:300px; margin-bottom:10px'>\n",
       "  <tr>\n",
       "    <th>epoch</th>\n",
       "    <th>train_loss</th>\n",
       "    <th>valid_loss</th>\n",
       "    <th>acc4</th>\n",
       "  </tr>\n",
       "  <tr>\n",
       "    <th>1</th>\n",
       "    <th>3.674840</th>\n",
       "    <th>3.649276</th>\n",
       "    <th>0.025209</th>\n",
       "  </tr>\n",
       "  <tr>\n",
       "    <th>2</th>\n",
       "    <th>3.620641</th>\n",
       "    <th>3.565851</th>\n",
       "    <th>0.038134</th>\n",
       "  </tr>\n",
       "  <tr>\n",
       "    <th>3</th>\n",
       "    <th>3.550167</th>\n",
       "    <th>3.482219</th>\n",
       "    <th>0.056803</th>\n",
       "  </tr>\n",
       "  <tr>\n",
       "    <th>4</th>\n",
       "    <th>3.479306</th>\n",
       "    <th>3.419901</th>\n",
       "    <th>0.104478</th>\n",
       "  </tr>\n",
       "  <tr>\n",
       "    <th>5</th>\n",
       "    <th>3.421580</th>\n",
       "    <th>3.401977</th>\n",
       "    <th>0.143579</th>\n",
       "  </tr>\n",
       "  <tr>\n",
       "    <th>6</th>\n",
       "    <th>3.393999</th>\n",
       "    <th>3.400445</th>\n",
       "    <th>0.153910</th>\n",
       "  </tr>\n",
       "</table>\n"
      ],
      "text/plain": [
       "<IPython.core.display.HTML object>"
      ]
     },
     "metadata": {},
     "output_type": "display_data"
    },
    {
     "data": {
      "text/html": [
       "Total time: 00:02 <p><table style='width:300px; margin-bottom:10px'>\n",
       "  <tr>\n",
       "    <th>epoch</th>\n",
       "    <th>train_loss</th>\n",
       "    <th>valid_loss</th>\n",
       "    <th>acc4</th>\n",
       "  </tr>\n",
       "  <tr>\n",
       "    <th>1</th>\n",
       "    <th>3.654592</th>\n",
       "    <th>3.615145</th>\n",
       "    <th>0.064434</th>\n",
       "  </tr>\n",
       "  <tr>\n",
       "    <th>2</th>\n",
       "    <th>3.617355</th>\n",
       "    <th>3.565098</th>\n",
       "    <th>0.091944</th>\n",
       "  </tr>\n",
       "  <tr>\n",
       "    <th>3</th>\n",
       "    <th>3.564160</th>\n",
       "    <th>3.483114</th>\n",
       "    <th>0.128255</th>\n",
       "  </tr>\n",
       "  <tr>\n",
       "    <th>4</th>\n",
       "    <th>3.507217</th>\n",
       "    <th>3.426445</th>\n",
       "    <th>0.178016</th>\n",
       "  </tr>\n",
       "  <tr>\n",
       "    <th>5</th>\n",
       "    <th>3.461781</th>\n",
       "    <th>3.410131</th>\n",
       "    <th>0.211192</th>\n",
       "  </tr>\n",
       "  <tr>\n",
       "    <th>6</th>\n",
       "    <th>3.429237</th>\n",
       "    <th>3.401948</th>\n",
       "    <th>0.211015</th>\n",
       "  </tr>\n",
       "</table>\n"
      ],
      "text/plain": [
       "<IPython.core.display.HTML object>"
      ]
     },
     "metadata": {},
     "output_type": "display_data"
    },
    {
     "data": {
      "text/html": [
       "Total time: 00:02 <p><table style='width:300px; margin-bottom:10px'>\n",
       "  <tr>\n",
       "    <th>epoch</th>\n",
       "    <th>train_loss</th>\n",
       "    <th>valid_loss</th>\n",
       "    <th>acc4</th>\n",
       "  </tr>\n",
       "  <tr>\n",
       "    <th>1</th>\n",
       "    <th>3.741898</th>\n",
       "    <th>3.692197</th>\n",
       "    <th>0.013691</th>\n",
       "  </tr>\n",
       "  <tr>\n",
       "    <th>2</th>\n",
       "    <th>3.734929</th>\n",
       "    <th>3.593261</th>\n",
       "    <th>0.033594</th>\n",
       "  </tr>\n",
       "  <tr>\n",
       "    <th>3</th>\n",
       "    <th>3.680688</th>\n",
       "    <th>3.556063</th>\n",
       "    <th>0.047830</th>\n",
       "  </tr>\n",
       "  <tr>\n",
       "    <th>4</th>\n",
       "    <th>3.632026</th>\n",
       "    <th>3.526726</th>\n",
       "    <th>0.074412</th>\n",
       "  </tr>\n",
       "  <tr>\n",
       "    <th>5</th>\n",
       "    <th>3.594992</th>\n",
       "    <th>3.482078</th>\n",
       "    <th>0.098125</th>\n",
       "  </tr>\n",
       "  <tr>\n",
       "    <th>6</th>\n",
       "    <th>3.569917</th>\n",
       "    <th>3.481905</th>\n",
       "    <th>0.103979</th>\n",
       "  </tr>\n",
       "</table>\n"
      ],
      "text/plain": [
       "<IPython.core.display.HTML object>"
      ]
     },
     "metadata": {},
     "output_type": "display_data"
    }
   ],
   "source": [
    "for l in seq_lens:\n",
    "    data = src.databunch(bs=bs, bptt=l, max_len=0, p_bptt=1.)\n",
    "    learn = Learner(data, Model1(), loss_func=loss4, metrics=acc4)\n",
    "    learn.fit_one_cycle(6,1e-4)\n",
    "    accs.append(learn.recorder.metrics[-1])"
   ]
  },
  {
   "cell_type": "code",
   "execution_count": 72,
   "metadata": {},
   "outputs": [
    {
     "data": {
      "image/png": "[encoded data removed]",
      "text/plain": [
       "<Figure size 432x288 with 1 Axes>"
      ]
     },
     "metadata": {
      "image/png": {
       "height": 277,
       "width": 393
      },
      "needs_background": "light"
     },
     "output_type": "display_data"
    }
   ],
   "source": [
    "fig = plt.figure()\n",
    "ax = fig.add_subplot(1, 1, 1)\n",
    "ax.set_xticks(seq_lens)\n",
    "ax.set_xlabel('Sequence Length')\n",
    "ax.set_ylabel('Best Val Accuracy')\n",
    "ax.set_title('Single Output Model Accuracy')\n",
    "ax.plot(seq_lens, accs);"
   ]
  },
  {
   "cell_type": "markdown",
   "metadata": {},
   "source": [
    "Notice that the longer our sequence length gets, the more \"confused\" our model gets about what the correct next word ought to be."
   ]
  },
  {
   "cell_type": "markdown",
   "metadata": {},
   "source": [
    "## Multi-Output Fully Connected Model\n",
    "\n",
    "Now we'll modify the previous model to be able to output an entire sequence of words as its prediction.\n",
    "\n",
    "More specifically, we start at the beginning of our sequence of length `bptt` and predict each subsequent word. We store each of these predictions in a list, and the final prediction in the list is the same \"next\" word after the entire `bptt` sequence that our earlier models were predicting."
   ]
  },
  {
   "cell_type": "code",
   "execution_count": 123,
   "metadata": {},
   "outputs": [],
   "source": [
    "data = src.databunch(bs=bs, bptt=20)"
   ]
  },
  {
   "cell_type": "code",
   "execution_count": 124,
   "metadata": {},
   "outputs": [
    {
     "data": {
      "text/plain": [
       "(torch.Size([45, 64]), torch.Size([45, 64]))"
      ]
     },
     "execution_count": 124,
     "metadata": {},
     "output_type": "execute_result"
    }
   ],
   "source": [
    "x,y = data.one_batch()\n",
    "x.shape,y.shape"
   ]
  },
  {
   "cell_type": "code",
   "execution_count": 105,
   "metadata": {},
   "outputs": [],
   "source": [
    "class Model2(nn.Module):\n",
    "    def __init__(self):\n",
    "        super().__init__()\n",
    "        self.i_h = nn.Embedding(nv,nh)\n",
    "        self.h_h = nn.Linear(nh,nh)\n",
    "        self.h_o = nn.Linear(nh,nv)\n",
    "        self.bn = nn.BatchNorm1d(nh)\n",
    "        \n",
    "    def forward(self, x):\n",
    "        h = torch.zeros(x.shape[1], nh).to(device=x.device)\n",
    "        res = [] # store preds of each 'next' word in the sequence\n",
    "        for xi in x:\n",
    "            h = h + self.i_h(xi) # must avoid in-place operations\n",
    "            h = self.bn(F.relu(self.h_h(h)))\n",
    "            res.append(self.h_o(h))\n",
    "        return torch.stack(res) # last pred is the word immediately following the bptt sequence\n",
    "                                # shape is (19,64,38) (seq len x emb sz x vocab sz)"
   ]
  },
  {
   "cell_type": "code",
   "execution_count": 106,
   "metadata": {},
   "outputs": [],
   "source": [
    "learn = Learner(data, Model2(), metrics=accuracy)"
   ]
  },
  {
   "cell_type": "code",
   "execution_count": 107,
   "metadata": {},
   "outputs": [
    {
     "data": {
      "text/html": [
       "Total time: 00:05 <p><table style='width:300px; margin-bottom:10px'>\n",
       "  <tr>\n",
       "    <th>epoch</th>\n",
       "    <th>train_loss</th>\n",
       "    <th>valid_loss</th>\n",
       "    <th>accuracy</th>\n",
       "  </tr>\n",
       "  <tr>\n",
       "    <th>1</th>\n",
       "    <th>3.609792</th>\n",
       "    <th>3.580274</th>\n",
       "    <th>0.037361</th>\n",
       "  </tr>\n",
       "  <tr>\n",
       "    <th>2</th>\n",
       "    <th>3.521265</th>\n",
       "    <th>3.475399</th>\n",
       "    <th>0.111850</th>\n",
       "  </tr>\n",
       "  <tr>\n",
       "    <th>3</th>\n",
       "    <th>3.412046</th>\n",
       "    <th>3.377761</th>\n",
       "    <th>0.187423</th>\n",
       "  </tr>\n",
       "  <tr>\n",
       "    <th>4</th>\n",
       "    <th>3.300155</th>\n",
       "    <th>3.290031</th>\n",
       "    <th>0.268564</th>\n",
       "  </tr>\n",
       "  <tr>\n",
       "    <th>5</th>\n",
       "    <th>3.197051</th>\n",
       "    <th>3.218627</th>\n",
       "    <th>0.340707</th>\n",
       "  </tr>\n",
       "  <tr>\n",
       "    <th>6</th>\n",
       "    <th>3.109057</th>\n",
       "    <th>3.173285</th>\n",
       "    <th>0.360737</th>\n",
       "  </tr>\n",
       "  <tr>\n",
       "    <th>7</th>\n",
       "    <th>3.041680</th>\n",
       "    <th>3.142778</th>\n",
       "    <th>0.364375</th>\n",
       "  </tr>\n",
       "  <tr>\n",
       "    <th>8</th>\n",
       "    <th>2.996122</th>\n",
       "    <th>3.119406</th>\n",
       "    <th>0.379641</th>\n",
       "  </tr>\n",
       "  <tr>\n",
       "    <th>9</th>\n",
       "    <th>2.965857</th>\n",
       "    <th>3.116822</th>\n",
       "    <th>0.370282</th>\n",
       "  </tr>\n",
       "  <tr>\n",
       "    <th>10</th>\n",
       "    <th>2.951544</th>\n",
       "    <th>3.111937</th>\n",
       "    <th>0.381884</th>\n",
       "  </tr>\n",
       "</table>\n"
      ],
      "text/plain": [
       "<IPython.core.display.HTML object>"
      ]
     },
     "metadata": {},
     "output_type": "display_data"
    }
   ],
   "source": [
    "learn.fit_one_cycle(10, 1e-4, pct_start=0.1)"
   ]
  },
  {
   "cell_type": "markdown",
   "metadata": {},
   "source": [
    "Although this model's performance with a sequence length of 20 still isn't as good as our first base model that used a sequence length of 3, we can see its accuracy is more than twice as good (`0.153910`) as when we modified that same original base model to use a sequence length of 20.\n",
    "\n",
    "What this means is that for longer sequence lengths, although its prediction of the first item following the sequence is usually wrong, this model does a somewhat passable job of predicting each next item inside the sequence. \n",
    "\n",
    "This observation motivates the final tweak that will turn our model into a standard Recurrent Neural Network -- we need to come up with a way to leverage the fact that we have a predictions for each subsequent word in the sequence. Is there a way we can make predictions for words later on, or right after, the sequence that take into account not only the immediately preceding word, but also the predictions we made for the earlier words in the sequence?"
   ]
  },
  {
   "cell_type": "markdown",
   "metadata": {},
   "source": [
    "## Writing an RNN from Scratch\n",
    "\n",
    "It turns out that we can make a prediction for the word immediately following a sequence of text that is itself influenced by our predictions for each previous word in the sequence.\n",
    "\n",
    "This turns out to be the architecture of a standard RNN, and we will create it below. \n",
    "\n",
    "We will also unfortunately see a familiar problem return: there is still a ceiling on sequence length. Because of vanishing gradients, there are only so many *previous* predictions that can be used to influence our final prediction of the next word following the sequence -- too many layers and the earliest layers will no longer be able to learn. Stacking too many predictions one-on-top-of-the-other  will result in diminishing marginal returns. \n",
    "\n",
    "I'll demonstrate this below, as well."
   ]
  },
  {
   "cell_type": "code",
   "execution_count": 129,
   "metadata": {},
   "outputs": [],
   "source": [
    "class Model3(nn.Module):\n",
    "    def __init__(self):\n",
    "        super().__init__()\n",
    "        self.i_h = nn.Embedding(nv,nh)\n",
    "        self.h_h = nn.Linear(nh,nh)\n",
    "        self.h_o = nn.Linear(nh,nv)\n",
    "        self.bn = nn.BatchNorm1d(nh)\n",
    "        self.h = torch.zeros(x.shape[1], nh).cuda()\n",
    "        \n",
    "    def forward(self, x):\n",
    "        res = []\n",
    "        h = self.h\n",
    "        for xi in x:\n",
    "            h = h + self.i_h(xi)\n",
    "            h = F.relu(self.h_h(h))\n",
    "            res.append(h)\n",
    "        self.h = h.detach()     # This line is at the crux of an RNN: safely store the updated weights, \n",
    "                                # so we can use them as inputs during our next pass.\n",
    "        res = torch.stack(res)\n",
    "        return self.h_o(self.bn(res)) # This is other the line that makes an RNN an RNN.\n",
    "                                      # Predictions are directly based on the previous\n",
    "                                      # predictions for each item in the sequence."
   ]
  },
  {
   "cell_type": "code",
   "execution_count": 130,
   "metadata": {},
   "outputs": [],
   "source": [
    "seq_lens = [10, 20, 30, 40, 50, 60, 70, 80, 90, 100]\n",
    "accs = []"
   ]
  },
  {
   "cell_type": "code",
   "execution_count": 131,
   "metadata": {},
   "outputs": [
    {
     "data": {
      "text/html": [
       "Total time: 00:08 <p><table style='width:300px; margin-bottom:10px'>\n",
       "  <tr>\n",
       "    <th>epoch</th>\n",
       "    <th>train_loss</th>\n",
       "    <th>valid_loss</th>\n",
       "    <th>accuracy</th>\n",
       "  </tr>\n",
       "  <tr>\n",
       "    <th>1</th>\n",
       "    <th>3.384314</th>\n",
       "    <th>3.329053</th>\n",
       "    <th>0.217203</th>\n",
       "  </tr>\n",
       "  <tr>\n",
       "    <th>2</th>\n",
       "    <th>2.692738</th>\n",
       "    <th>2.418226</th>\n",
       "    <th>0.435566</th>\n",
       "  </tr>\n",
       "  <tr>\n",
       "    <th>3</th>\n",
       "    <th>1.940463</th>\n",
       "    <th>2.051614</th>\n",
       "    <th>0.322427</th>\n",
       "  </tr>\n",
       "  <tr>\n",
       "    <th>4</th>\n",
       "    <th>1.551412</th>\n",
       "    <th>2.279587</th>\n",
       "    <th>0.335368</th>\n",
       "  </tr>\n",
       "  <tr>\n",
       "    <th>5</th>\n",
       "    <th>1.342217</th>\n",
       "    <th>2.974828</th>\n",
       "    <th>0.400326</th>\n",
       "  </tr>\n",
       "  <tr>\n",
       "    <th>6</th>\n",
       "    <th>1.207126</th>\n",
       "    <th>2.576336</th>\n",
       "    <th>0.392481</th>\n",
       "  </tr>\n",
       "  <tr>\n",
       "    <th>7</th>\n",
       "    <th>1.048252</th>\n",
       "    <th>2.748946</th>\n",
       "    <th>0.394725</th>\n",
       "  </tr>\n",
       "  <tr>\n",
       "    <th>8</th>\n",
       "    <th>0.913178</th>\n",
       "    <th>3.107788</th>\n",
       "    <th>0.412109</th>\n",
       "  </tr>\n",
       "  <tr>\n",
       "    <th>9</th>\n",
       "    <th>0.827491</th>\n",
       "    <th>2.868106</th>\n",
       "    <th>0.449489</th>\n",
       "  </tr>\n",
       "  <tr>\n",
       "    <th>10</th>\n",
       "    <th>0.717479</th>\n",
       "    <th>3.476324</th>\n",
       "    <th>0.451578</th>\n",
       "  </tr>\n",
       "  <tr>\n",
       "    <th>11</th>\n",
       "    <th>0.625996</th>\n",
       "    <th>3.254119</th>\n",
       "    <th>0.460860</th>\n",
       "  </tr>\n",
       "  <tr>\n",
       "    <th>12</th>\n",
       "    <th>0.592834</th>\n",
       "    <th>3.470452</th>\n",
       "    <th>0.447775</th>\n",
       "  </tr>\n",
       "  <tr>\n",
       "    <th>13</th>\n",
       "    <th>0.521197</th>\n",
       "    <th>3.295209</th>\n",
       "    <th>0.459073</th>\n",
       "  </tr>\n",
       "  <tr>\n",
       "    <th>14</th>\n",
       "    <th>0.483367</th>\n",
       "    <th>3.769363</th>\n",
       "    <th>0.456473</th>\n",
       "  </tr>\n",
       "  <tr>\n",
       "    <th>15</th>\n",
       "    <th>0.448447</th>\n",
       "    <th>3.633631</th>\n",
       "    <th>0.477163</th>\n",
       "  </tr>\n",
       "  <tr>\n",
       "    <th>16</th>\n",
       "    <th>0.422965</th>\n",
       "    <th>3.510186</th>\n",
       "    <th>0.450263</th>\n",
       "  </tr>\n",
       "  <tr>\n",
       "    <th>17</th>\n",
       "    <th>0.415481</th>\n",
       "    <th>3.522673</th>\n",
       "    <th>0.476983</th>\n",
       "  </tr>\n",
       "  <tr>\n",
       "    <th>18</th>\n",
       "    <th>0.383989</th>\n",
       "    <th>3.438263</th>\n",
       "    <th>0.476795</th>\n",
       "  </tr>\n",
       "  <tr>\n",
       "    <th>19</th>\n",
       "    <th>0.370043</th>\n",
       "    <th>3.570556</th>\n",
       "    <th>0.471767</th>\n",
       "  </tr>\n",
       "  <tr>\n",
       "    <th>20</th>\n",
       "    <th>0.363793</th>\n",
       "    <th>3.522954</th>\n",
       "    <th>0.483756</th>\n",
       "  </tr>\n",
       "</table>\n"
      ],
      "text/plain": [
       "<IPython.core.display.HTML object>"
      ]
     },
     "metadata": {},
     "output_type": "display_data"
    },
    {
     "data": {
      "text/html": [
       "Total time: 00:06 <p><table style='width:300px; margin-bottom:10px'>\n",
       "  <tr>\n",
       "    <th>epoch</th>\n",
       "    <th>train_loss</th>\n",
       "    <th>valid_loss</th>\n",
       "    <th>accuracy</th>\n",
       "  </tr>\n",
       "  <tr>\n",
       "    <th>1</th>\n",
       "    <th>3.487506</th>\n",
       "    <th>3.358461</th>\n",
       "    <th>0.258663</th>\n",
       "  </tr>\n",
       "  <tr>\n",
       "    <th>2</th>\n",
       "    <th>3.113286</th>\n",
       "    <th>2.695935</th>\n",
       "    <th>0.413289</th>\n",
       "  </tr>\n",
       "  <tr>\n",
       "    <th>3</th>\n",
       "    <th>2.521313</th>\n",
       "    <th>2.064574</th>\n",
       "    <th>0.461806</th>\n",
       "  </tr>\n",
       "  <tr>\n",
       "    <th>4</th>\n",
       "    <th>2.045566</th>\n",
       "    <th>1.945393</th>\n",
       "    <th>0.400371</th>\n",
       "  </tr>\n",
       "  <tr>\n",
       "    <th>5</th>\n",
       "    <th>1.721875</th>\n",
       "    <th>2.019485</th>\n",
       "    <th>0.365254</th>\n",
       "  </tr>\n",
       "  <tr>\n",
       "    <th>6</th>\n",
       "    <th>1.505207</th>\n",
       "    <th>1.989697</th>\n",
       "    <th>0.455038</th>\n",
       "  </tr>\n",
       "  <tr>\n",
       "    <th>7</th>\n",
       "    <th>1.323425</th>\n",
       "    <th>2.032888</th>\n",
       "    <th>0.439666</th>\n",
       "  </tr>\n",
       "  <tr>\n",
       "    <th>8</th>\n",
       "    <th>1.166997</th>\n",
       "    <th>2.026574</th>\n",
       "    <th>0.463268</th>\n",
       "  </tr>\n",
       "  <tr>\n",
       "    <th>9</th>\n",
       "    <th>1.025150</th>\n",
       "    <th>2.158452</th>\n",
       "    <th>0.485817</th>\n",
       "  </tr>\n",
       "  <tr>\n",
       "    <th>10</th>\n",
       "    <th>0.905673</th>\n",
       "    <th>2.205943</th>\n",
       "    <th>0.496388</th>\n",
       "  </tr>\n",
       "  <tr>\n",
       "    <th>11</th>\n",
       "    <th>0.807300</th>\n",
       "    <th>2.341572</th>\n",
       "    <th>0.487856</th>\n",
       "  </tr>\n",
       "  <tr>\n",
       "    <th>12</th>\n",
       "    <th>0.735446</th>\n",
       "    <th>2.438346</th>\n",
       "    <th>0.513074</th>\n",
       "  </tr>\n",
       "  <tr>\n",
       "    <th>13</th>\n",
       "    <th>0.687608</th>\n",
       "    <th>2.461138</th>\n",
       "    <th>0.517095</th>\n",
       "  </tr>\n",
       "  <tr>\n",
       "    <th>14</th>\n",
       "    <th>0.637268</th>\n",
       "    <th>2.622473</th>\n",
       "    <th>0.525139</th>\n",
       "  </tr>\n",
       "  <tr>\n",
       "    <th>15</th>\n",
       "    <th>0.604274</th>\n",
       "    <th>2.522825</th>\n",
       "    <th>0.519106</th>\n",
       "  </tr>\n",
       "  <tr>\n",
       "    <th>16</th>\n",
       "    <th>0.576212</th>\n",
       "    <th>2.642608</th>\n",
       "    <th>0.516028</th>\n",
       "  </tr>\n",
       "  <tr>\n",
       "    <th>17</th>\n",
       "    <th>0.568643</th>\n",
       "    <th>2.663708</th>\n",
       "    <th>0.509669</th>\n",
       "  </tr>\n",
       "  <tr>\n",
       "    <th>18</th>\n",
       "    <th>0.545563</th>\n",
       "    <th>2.671074</th>\n",
       "    <th>0.525139</th>\n",
       "  </tr>\n",
       "  <tr>\n",
       "    <th>19</th>\n",
       "    <th>0.541651</th>\n",
       "    <th>2.693801</th>\n",
       "    <th>0.520266</th>\n",
       "  </tr>\n",
       "  <tr>\n",
       "    <th>20</th>\n",
       "    <th>0.535642</th>\n",
       "    <th>2.692839</th>\n",
       "    <th>0.519183</th>\n",
       "  </tr>\n",
       "</table>\n"
      ],
      "text/plain": [
       "<IPython.core.display.HTML object>"
      ]
     },
     "metadata": {},
     "output_type": "display_data"
    },
    {
     "data": {
      "text/html": [
       "Total time: 00:06 <p><table style='width:300px; margin-bottom:10px'>\n",
       "  <tr>\n",
       "    <th>epoch</th>\n",
       "    <th>train_loss</th>\n",
       "    <th>valid_loss</th>\n",
       "    <th>accuracy</th>\n",
       "  </tr>\n",
       "  <tr>\n",
       "    <th>1</th>\n",
       "    <th>3.552092</th>\n",
       "    <th>3.534075</th>\n",
       "    <th>0.129332</th>\n",
       "  </tr>\n",
       "  <tr>\n",
       "    <th>2</th>\n",
       "    <th>3.328498</th>\n",
       "    <th>3.110362</th>\n",
       "    <th>0.345374</th>\n",
       "  </tr>\n",
       "  <tr>\n",
       "    <th>3</th>\n",
       "    <th>2.971887</th>\n",
       "    <th>2.469468</th>\n",
       "    <th>0.431776</th>\n",
       "  </tr>\n",
       "  <tr>\n",
       "    <th>4</th>\n",
       "    <th>2.512505</th>\n",
       "    <th>2.052486</th>\n",
       "    <th>0.464686</th>\n",
       "  </tr>\n",
       "  <tr>\n",
       "    <th>5</th>\n",
       "    <th>2.130290</th>\n",
       "    <th>1.923965</th>\n",
       "    <th>0.427273</th>\n",
       "  </tr>\n",
       "  <tr>\n",
       "    <th>6</th>\n",
       "    <th>1.834873</th>\n",
       "    <th>1.893422</th>\n",
       "    <th>0.450727</th>\n",
       "  </tr>\n",
       "  <tr>\n",
       "    <th>7</th>\n",
       "    <th>1.610416</th>\n",
       "    <th>1.884547</th>\n",
       "    <th>0.461324</th>\n",
       "  </tr>\n",
       "  <tr>\n",
       "    <th>8</th>\n",
       "    <th>1.427125</th>\n",
       "    <th>1.926240</th>\n",
       "    <th>0.458772</th>\n",
       "  </tr>\n",
       "  <tr>\n",
       "    <th>9</th>\n",
       "    <th>1.279448</th>\n",
       "    <th>1.882127</th>\n",
       "    <th>0.482805</th>\n",
       "  </tr>\n",
       "  <tr>\n",
       "    <th>10</th>\n",
       "    <th>1.157715</th>\n",
       "    <th>1.944728</th>\n",
       "    <th>0.485547</th>\n",
       "  </tr>\n",
       "  <tr>\n",
       "    <th>11</th>\n",
       "    <th>1.060390</th>\n",
       "    <th>1.968962</th>\n",
       "    <th>0.487944</th>\n",
       "  </tr>\n",
       "  <tr>\n",
       "    <th>12</th>\n",
       "    <th>0.981881</th>\n",
       "    <th>1.957679</th>\n",
       "    <th>0.495823</th>\n",
       "  </tr>\n",
       "  <tr>\n",
       "    <th>13</th>\n",
       "    <th>0.918837</th>\n",
       "    <th>2.004786</th>\n",
       "    <th>0.491046</th>\n",
       "  </tr>\n",
       "  <tr>\n",
       "    <th>14</th>\n",
       "    <th>0.867656</th>\n",
       "    <th>2.027360</th>\n",
       "    <th>0.492314</th>\n",
       "  </tr>\n",
       "  <tr>\n",
       "    <th>15</th>\n",
       "    <th>0.825707</th>\n",
       "    <th>2.009732</th>\n",
       "    <th>0.496114</th>\n",
       "  </tr>\n",
       "  <tr>\n",
       "    <th>16</th>\n",
       "    <th>0.792921</th>\n",
       "    <th>2.029898</th>\n",
       "    <th>0.492574</th>\n",
       "  </tr>\n",
       "  <tr>\n",
       "    <th>17</th>\n",
       "    <th>0.770718</th>\n",
       "    <th>2.018578</th>\n",
       "    <th>0.505492</th>\n",
       "  </tr>\n",
       "  <tr>\n",
       "    <th>18</th>\n",
       "    <th>0.749845</th>\n",
       "    <th>2.090181</th>\n",
       "    <th>0.499341</th>\n",
       "  </tr>\n",
       "  <tr>\n",
       "    <th>19</th>\n",
       "    <th>0.738511</th>\n",
       "    <th>2.042822</th>\n",
       "    <th>0.504225</th>\n",
       "  </tr>\n",
       "  <tr>\n",
       "    <th>20</th>\n",
       "    <th>0.728722</th>\n",
       "    <th>2.029758</th>\n",
       "    <th>0.502862</th>\n",
       "  </tr>\n",
       "</table>\n"
      ],
      "text/plain": [
       "<IPython.core.display.HTML object>"
      ]
     },
     "metadata": {},
     "output_type": "display_data"
    },
    {
     "data": {
      "text/html": [
       "Total time: 00:05 <p><table style='width:300px; margin-bottom:10px'>\n",
       "  <tr>\n",
       "    <th>epoch</th>\n",
       "    <th>train_loss</th>\n",
       "    <th>valid_loss</th>\n",
       "    <th>accuracy</th>\n",
       "  </tr>\n",
       "  <tr>\n",
       "    <th>1</th>\n",
       "    <th>3.704739</th>\n",
       "    <th>3.671440</th>\n",
       "    <th>0.046720</th>\n",
       "  </tr>\n",
       "  <tr>\n",
       "    <th>2</th>\n",
       "    <th>3.522224</th>\n",
       "    <th>3.421575</th>\n",
       "    <th>0.152073</th>\n",
       "  </tr>\n",
       "  <tr>\n",
       "    <th>3</th>\n",
       "    <th>3.197498</th>\n",
       "    <th>2.875218</th>\n",
       "    <th>0.241182</th>\n",
       "  </tr>\n",
       "  <tr>\n",
       "    <th>4</th>\n",
       "    <th>2.774493</th>\n",
       "    <th>2.302419</th>\n",
       "    <th>0.459236</th>\n",
       "  </tr>\n",
       "  <tr>\n",
       "    <th>5</th>\n",
       "    <th>2.382379</th>\n",
       "    <th>2.063124</th>\n",
       "    <th>0.465579</th>\n",
       "  </tr>\n",
       "  <tr>\n",
       "    <th>6</th>\n",
       "    <th>2.075464</th>\n",
       "    <th>1.977657</th>\n",
       "    <th>0.461170</th>\n",
       "  </tr>\n",
       "  <tr>\n",
       "    <th>7</th>\n",
       "    <th>1.842956</th>\n",
       "    <th>1.966823</th>\n",
       "    <th>0.466584</th>\n",
       "  </tr>\n",
       "  <tr>\n",
       "    <th>8</th>\n",
       "    <th>1.663011</th>\n",
       "    <th>1.994438</th>\n",
       "    <th>0.467512</th>\n",
       "  </tr>\n",
       "  <tr>\n",
       "    <th>9</th>\n",
       "    <th>1.521395</th>\n",
       "    <th>1.978110</th>\n",
       "    <th>0.472792</th>\n",
       "  </tr>\n",
       "  <tr>\n",
       "    <th>10</th>\n",
       "    <th>1.403678</th>\n",
       "    <th>1.928083</th>\n",
       "    <th>0.482287</th>\n",
       "  </tr>\n",
       "  <tr>\n",
       "    <th>11</th>\n",
       "    <th>1.305586</th>\n",
       "    <th>1.871730</th>\n",
       "    <th>0.488707</th>\n",
       "  </tr>\n",
       "  <tr>\n",
       "    <th>12</th>\n",
       "    <th>1.219634</th>\n",
       "    <th>1.841708</th>\n",
       "    <th>0.494276</th>\n",
       "  </tr>\n",
       "  <tr>\n",
       "    <th>13</th>\n",
       "    <th>1.151300</th>\n",
       "    <th>1.835663</th>\n",
       "    <th>0.493193</th>\n",
       "  </tr>\n",
       "  <tr>\n",
       "    <th>14</th>\n",
       "    <th>1.091847</th>\n",
       "    <th>1.848231</th>\n",
       "    <th>0.490254</th>\n",
       "  </tr>\n",
       "  <tr>\n",
       "    <th>15</th>\n",
       "    <th>1.039173</th>\n",
       "    <th>1.852459</th>\n",
       "    <th>0.489635</th>\n",
       "  </tr>\n",
       "  <tr>\n",
       "    <th>16</th>\n",
       "    <th>0.996837</th>\n",
       "    <th>1.870569</th>\n",
       "    <th>0.491105</th>\n",
       "  </tr>\n",
       "  <tr>\n",
       "    <th>17</th>\n",
       "    <th>0.960954</th>\n",
       "    <th>1.889843</th>\n",
       "    <th>0.492100</th>\n",
       "  </tr>\n",
       "  <tr>\n",
       "    <th>18</th>\n",
       "    <th>0.935006</th>\n",
       "    <th>1.875926</th>\n",
       "    <th>0.494353</th>\n",
       "  </tr>\n",
       "  <tr>\n",
       "    <th>19</th>\n",
       "    <th>0.921585</th>\n",
       "    <th>1.886345</th>\n",
       "    <th>0.495978</th>\n",
       "  </tr>\n",
       "  <tr>\n",
       "    <th>20</th>\n",
       "    <th>0.907311</th>\n",
       "    <th>1.889083</th>\n",
       "    <th>0.495359</th>\n",
       "  </tr>\n",
       "</table>\n"
      ],
      "text/plain": [
       "<IPython.core.display.HTML object>"
      ]
     },
     "metadata": {},
     "output_type": "display_data"
    },
    {
     "data": {
      "text/html": [
       "Total time: 00:05 <p><table style='width:300px; margin-bottom:10px'>\n",
       "  <tr>\n",
       "    <th>epoch</th>\n",
       "    <th>train_loss</th>\n",
       "    <th>valid_loss</th>\n",
       "    <th>accuracy</th>\n",
       "  </tr>\n",
       "  <tr>\n",
       "    <th>1</th>\n",
       "    <th>3.637246</th>\n",
       "    <th>3.613597</th>\n",
       "    <th>0.042311</th>\n",
       "  </tr>\n",
       "  <tr>\n",
       "    <th>2</th>\n",
       "    <th>3.536057</th>\n",
       "    <th>3.463262</th>\n",
       "    <th>0.155244</th>\n",
       "  </tr>\n",
       "  <tr>\n",
       "    <th>3</th>\n",
       "    <th>3.346687</th>\n",
       "    <th>3.082096</th>\n",
       "    <th>0.234916</th>\n",
       "  </tr>\n",
       "  <tr>\n",
       "    <th>4</th>\n",
       "    <th>3.059861</th>\n",
       "    <th>2.536467</th>\n",
       "    <th>0.348546</th>\n",
       "  </tr>\n",
       "  <tr>\n",
       "    <th>5</th>\n",
       "    <th>2.713410</th>\n",
       "    <th>2.145346</th>\n",
       "    <th>0.389001</th>\n",
       "  </tr>\n",
       "  <tr>\n",
       "    <th>6</th>\n",
       "    <th>2.390636</th>\n",
       "    <th>1.987324</th>\n",
       "    <th>0.379254</th>\n",
       "  </tr>\n",
       "  <tr>\n",
       "    <th>7</th>\n",
       "    <th>2.144475</th>\n",
       "    <th>1.950205</th>\n",
       "    <th>0.373066</th>\n",
       "  </tr>\n",
       "  <tr>\n",
       "    <th>8</th>\n",
       "    <th>1.935485</th>\n",
       "    <th>1.934915</th>\n",
       "    <th>0.375000</th>\n",
       "  </tr>\n",
       "  <tr>\n",
       "    <th>9</th>\n",
       "    <th>1.767849</th>\n",
       "    <th>1.920433</th>\n",
       "    <th>0.392868</th>\n",
       "  </tr>\n",
       "  <tr>\n",
       "    <th>10</th>\n",
       "    <th>1.634351</th>\n",
       "    <th>1.908177</th>\n",
       "    <th>0.409886</th>\n",
       "  </tr>\n",
       "  <tr>\n",
       "    <th>11</th>\n",
       "    <th>1.525760</th>\n",
       "    <th>1.891050</th>\n",
       "    <th>0.430925</th>\n",
       "  </tr>\n",
       "  <tr>\n",
       "    <th>12</th>\n",
       "    <th>1.436528</th>\n",
       "    <th>1.885775</th>\n",
       "    <th>0.446550</th>\n",
       "  </tr>\n",
       "  <tr>\n",
       "    <th>13</th>\n",
       "    <th>1.361568</th>\n",
       "    <th>1.878595</th>\n",
       "    <th>0.464573</th>\n",
       "  </tr>\n",
       "  <tr>\n",
       "    <th>14</th>\n",
       "    <th>1.296592</th>\n",
       "    <th>1.886975</th>\n",
       "    <th>0.466429</th>\n",
       "  </tr>\n",
       "  <tr>\n",
       "    <th>15</th>\n",
       "    <th>1.242638</th>\n",
       "    <th>1.902633</th>\n",
       "    <th>0.463567</th>\n",
       "  </tr>\n",
       "  <tr>\n",
       "    <th>16</th>\n",
       "    <th>1.196035</th>\n",
       "    <th>1.905493</th>\n",
       "    <th>0.473004</th>\n",
       "  </tr>\n",
       "  <tr>\n",
       "    <th>17</th>\n",
       "    <th>1.156571</th>\n",
       "    <th>1.943722</th>\n",
       "    <th>0.462442</th>\n",
       "  </tr>\n",
       "  <tr>\n",
       "    <th>18</th>\n",
       "    <th>1.126421</th>\n",
       "    <th>1.928770</th>\n",
       "    <th>0.468750</th>\n",
       "  </tr>\n",
       "  <tr>\n",
       "    <th>19</th>\n",
       "    <th>1.103342</th>\n",
       "    <th>1.932086</th>\n",
       "    <th>0.468054</th>\n",
       "  </tr>\n",
       "  <tr>\n",
       "    <th>20</th>\n",
       "    <th>1.085694</th>\n",
       "    <th>1.932339</th>\n",
       "    <th>0.467976</th>\n",
       "  </tr>\n",
       "</table>\n"
      ],
      "text/plain": [
       "<IPython.core.display.HTML object>"
      ]
     },
     "metadata": {},
     "output_type": "display_data"
    },
    {
     "data": {
      "text/html": [
       "Total time: 00:05 <p><table style='width:300px; margin-bottom:10px'>\n",
       "  <tr>\n",
       "    <th>epoch</th>\n",
       "    <th>train_loss</th>\n",
       "    <th>valid_loss</th>\n",
       "    <th>accuracy</th>\n",
       "  </tr>\n",
       "  <tr>\n",
       "    <th>1</th>\n",
       "    <th>3.631447</th>\n",
       "    <th>3.635433</th>\n",
       "    <th>0.041847</th>\n",
       "  </tr>\n",
       "  <tr>\n",
       "    <th>2</th>\n",
       "    <th>3.530645</th>\n",
       "    <th>3.451391</th>\n",
       "    <th>0.165145</th>\n",
       "  </tr>\n",
       "  <tr>\n",
       "    <th>3</th>\n",
       "    <th>3.341304</th>\n",
       "    <th>2.993028</th>\n",
       "    <th>0.361154</th>\n",
       "  </tr>\n",
       "  <tr>\n",
       "    <th>4</th>\n",
       "    <th>3.063398</th>\n",
       "    <th>2.449738</th>\n",
       "    <th>0.446990</th>\n",
       "  </tr>\n",
       "  <tr>\n",
       "    <th>5</th>\n",
       "    <th>2.743362</th>\n",
       "    <th>2.135736</th>\n",
       "    <th>0.467667</th>\n",
       "  </tr>\n",
       "  <tr>\n",
       "    <th>6</th>\n",
       "    <th>2.466369</th>\n",
       "    <th>1.994069</th>\n",
       "    <th>0.465269</th>\n",
       "  </tr>\n",
       "  <tr>\n",
       "    <th>7</th>\n",
       "    <th>2.217784</th>\n",
       "    <th>1.945567</th>\n",
       "    <th>0.405863</th>\n",
       "  </tr>\n",
       "  <tr>\n",
       "    <th>8</th>\n",
       "    <th>2.019010</th>\n",
       "    <th>1.921930</th>\n",
       "    <th>0.365950</th>\n",
       "  </tr>\n",
       "  <tr>\n",
       "    <th>9</th>\n",
       "    <th>1.860598</th>\n",
       "    <th>1.918266</th>\n",
       "    <th>0.380801</th>\n",
       "  </tr>\n",
       "  <tr>\n",
       "    <th>10</th>\n",
       "    <th>1.742659</th>\n",
       "    <th>1.910207</th>\n",
       "    <th>0.383818</th>\n",
       "  </tr>\n",
       "  <tr>\n",
       "    <th>11</th>\n",
       "    <th>1.637609</th>\n",
       "    <th>1.925564</th>\n",
       "    <th>0.393564</th>\n",
       "  </tr>\n",
       "  <tr>\n",
       "    <th>12</th>\n",
       "    <th>1.551953</th>\n",
       "    <th>1.912290</th>\n",
       "    <th>0.409653</th>\n",
       "  </tr>\n",
       "  <tr>\n",
       "    <th>13</th>\n",
       "    <th>1.480415</th>\n",
       "    <th>1.944143</th>\n",
       "    <th>0.406250</th>\n",
       "  </tr>\n",
       "  <tr>\n",
       "    <th>14</th>\n",
       "    <th>1.418719</th>\n",
       "    <th>1.941768</th>\n",
       "    <th>0.422262</th>\n",
       "  </tr>\n",
       "  <tr>\n",
       "    <th>15</th>\n",
       "    <th>1.366795</th>\n",
       "    <th>1.982307</th>\n",
       "    <th>0.426207</th>\n",
       "  </tr>\n",
       "  <tr>\n",
       "    <th>16</th>\n",
       "    <th>1.325655</th>\n",
       "    <th>1.998287</th>\n",
       "    <th>0.441058</th>\n",
       "  </tr>\n",
       "  <tr>\n",
       "    <th>17</th>\n",
       "    <th>1.288826</th>\n",
       "    <th>2.026325</th>\n",
       "    <th>0.426207</th>\n",
       "  </tr>\n",
       "  <tr>\n",
       "    <th>18</th>\n",
       "    <th>1.258253</th>\n",
       "    <th>2.037997</th>\n",
       "    <th>0.440439</th>\n",
       "  </tr>\n",
       "  <tr>\n",
       "    <th>19</th>\n",
       "    <th>1.233699</th>\n",
       "    <th>2.053969</th>\n",
       "    <th>0.425433</th>\n",
       "  </tr>\n",
       "  <tr>\n",
       "    <th>20</th>\n",
       "    <th>1.215220</th>\n",
       "    <th>2.056036</th>\n",
       "    <th>0.424737</th>\n",
       "  </tr>\n",
       "</table>\n"
      ],
      "text/plain": [
       "<IPython.core.display.HTML object>"
      ]
     },
     "metadata": {},
     "output_type": "display_data"
    },
    {
     "data": {
      "text/html": [
       "Total time: 00:05 <p><table style='width:300px; margin-bottom:10px'>\n",
       "  <tr>\n",
       "    <th>epoch</th>\n",
       "    <th>train_loss</th>\n",
       "    <th>valid_loss</th>\n",
       "    <th>accuracy</th>\n",
       "  </tr>\n",
       "  <tr>\n",
       "    <th>1</th>\n",
       "    <th>3.659373</th>\n",
       "    <th>3.586620</th>\n",
       "    <th>0.060489</th>\n",
       "  </tr>\n",
       "  <tr>\n",
       "    <th>2</th>\n",
       "    <th>3.579134</th>\n",
       "    <th>3.476528</th>\n",
       "    <th>0.161595</th>\n",
       "  </tr>\n",
       "  <tr>\n",
       "    <th>3</th>\n",
       "    <th>3.434122</th>\n",
       "    <th>3.207040</th>\n",
       "    <th>0.313815</th>\n",
       "  </tr>\n",
       "  <tr>\n",
       "    <th>4</th>\n",
       "    <th>3.202828</th>\n",
       "    <th>2.718486</th>\n",
       "    <th>0.414759</th>\n",
       "  </tr>\n",
       "  <tr>\n",
       "    <th>5</th>\n",
       "    <th>2.922848</th>\n",
       "    <th>2.323007</th>\n",
       "    <th>0.450031</th>\n",
       "  </tr>\n",
       "  <tr>\n",
       "    <th>6</th>\n",
       "    <th>2.638155</th>\n",
       "    <th>2.102907</th>\n",
       "    <th>0.450190</th>\n",
       "  </tr>\n",
       "  <tr>\n",
       "    <th>7</th>\n",
       "    <th>2.383304</th>\n",
       "    <th>2.030600</th>\n",
       "    <th>0.375774</th>\n",
       "  </tr>\n",
       "  <tr>\n",
       "    <th>8</th>\n",
       "    <th>2.171045</th>\n",
       "    <th>2.048056</th>\n",
       "    <th>0.334313</th>\n",
       "  </tr>\n",
       "  <tr>\n",
       "    <th>9</th>\n",
       "    <th>2.002704</th>\n",
       "    <th>2.065389</th>\n",
       "    <th>0.337562</th>\n",
       "  </tr>\n",
       "  <tr>\n",
       "    <th>10</th>\n",
       "    <th>1.867298</th>\n",
       "    <th>2.062930</th>\n",
       "    <th>0.349551</th>\n",
       "  </tr>\n",
       "  <tr>\n",
       "    <th>11</th>\n",
       "    <th>1.754149</th>\n",
       "    <th>2.053982</th>\n",
       "    <th>0.369585</th>\n",
       "  </tr>\n",
       "  <tr>\n",
       "    <th>12</th>\n",
       "    <th>1.657730</th>\n",
       "    <th>2.008393</th>\n",
       "    <th>0.402073</th>\n",
       "  </tr>\n",
       "  <tr>\n",
       "    <th>13</th>\n",
       "    <th>1.581056</th>\n",
       "    <th>1.985508</th>\n",
       "    <th>0.419245</th>\n",
       "  </tr>\n",
       "  <tr>\n",
       "    <th>14</th>\n",
       "    <th>1.507683</th>\n",
       "    <th>1.970890</th>\n",
       "    <th>0.428373</th>\n",
       "  </tr>\n",
       "  <tr>\n",
       "    <th>15</th>\n",
       "    <th>1.443789</th>\n",
       "    <th>1.964454</th>\n",
       "    <th>0.429533</th>\n",
       "  </tr>\n",
       "  <tr>\n",
       "    <th>16</th>\n",
       "    <th>1.388574</th>\n",
       "    <th>1.966849</th>\n",
       "    <th>0.441306</th>\n",
       "  </tr>\n",
       "  <tr>\n",
       "    <th>17</th>\n",
       "    <th>1.340919</th>\n",
       "    <th>1.958718</th>\n",
       "    <th>0.446782</th>\n",
       "  </tr>\n",
       "  <tr>\n",
       "    <th>18</th>\n",
       "    <th>1.301514</th>\n",
       "    <th>1.954623</th>\n",
       "    <th>0.453666</th>\n",
       "  </tr>\n",
       "  <tr>\n",
       "    <th>19</th>\n",
       "    <th>1.269605</th>\n",
       "    <th>1.953512</th>\n",
       "    <th>0.453125</th>\n",
       "  </tr>\n",
       "  <tr>\n",
       "    <th>20</th>\n",
       "    <th>1.244301</th>\n",
       "    <th>1.950734</th>\n",
       "    <th>0.455368</th>\n",
       "  </tr>\n",
       "</table>\n"
      ],
      "text/plain": [
       "<IPython.core.display.HTML object>"
      ]
     },
     "metadata": {},
     "output_type": "display_data"
    },
    {
     "data": {
      "text/html": [
       "Total time: 00:05 <p><table style='width:300px; margin-bottom:10px'>\n",
       "  <tr>\n",
       "    <th>epoch</th>\n",
       "    <th>train_loss</th>\n",
       "    <th>valid_loss</th>\n",
       "    <th>accuracy</th>\n",
       "  </tr>\n",
       "  <tr>\n",
       "    <th>1</th>\n",
       "    <th>3.659716</th>\n",
       "    <th>3.610031</th>\n",
       "    <th>0.095761</th>\n",
       "  </tr>\n",
       "  <tr>\n",
       "    <th>2</th>\n",
       "    <th>3.588200</th>\n",
       "    <th>3.495002</th>\n",
       "    <th>0.128636</th>\n",
       "  </tr>\n",
       "  <tr>\n",
       "    <th>3</th>\n",
       "    <th>3.452177</th>\n",
       "    <th>3.193481</th>\n",
       "    <th>0.261757</th>\n",
       "  </tr>\n",
       "  <tr>\n",
       "    <th>4</th>\n",
       "    <th>3.244320</th>\n",
       "    <th>2.704467</th>\n",
       "    <th>0.392017</th>\n",
       "  </tr>\n",
       "  <tr>\n",
       "    <th>5</th>\n",
       "    <th>2.977293</th>\n",
       "    <th>2.238263</th>\n",
       "    <th>0.444771</th>\n",
       "  </tr>\n",
       "  <tr>\n",
       "    <th>6</th>\n",
       "    <th>2.706210</th>\n",
       "    <th>2.064119</th>\n",
       "    <th>0.425588</th>\n",
       "  </tr>\n",
       "  <tr>\n",
       "    <th>7</th>\n",
       "    <th>2.467570</th>\n",
       "    <th>2.025649</th>\n",
       "    <th>0.392946</th>\n",
       "  </tr>\n",
       "  <tr>\n",
       "    <th>8</th>\n",
       "    <th>2.265399</th>\n",
       "    <th>2.015460</th>\n",
       "    <th>0.373066</th>\n",
       "  </tr>\n",
       "  <tr>\n",
       "    <th>9</th>\n",
       "    <th>2.095247</th>\n",
       "    <th>2.016068</th>\n",
       "    <th>0.373298</th>\n",
       "  </tr>\n",
       "  <tr>\n",
       "    <th>10</th>\n",
       "    <th>1.953635</th>\n",
       "    <th>2.007854</th>\n",
       "    <th>0.371597</th>\n",
       "  </tr>\n",
       "  <tr>\n",
       "    <th>11</th>\n",
       "    <th>1.834390</th>\n",
       "    <th>2.064130</th>\n",
       "    <th>0.366182</th>\n",
       "  </tr>\n",
       "  <tr>\n",
       "    <th>12</th>\n",
       "    <th>1.735849</th>\n",
       "    <th>2.072724</th>\n",
       "    <th>0.371597</th>\n",
       "  </tr>\n",
       "  <tr>\n",
       "    <th>13</th>\n",
       "    <th>1.649170</th>\n",
       "    <th>2.086471</th>\n",
       "    <th>0.378733</th>\n",
       "  </tr>\n",
       "  <tr>\n",
       "    <th>14</th>\n",
       "    <th>1.574642</th>\n",
       "    <th>2.092277</th>\n",
       "    <th>0.384554</th>\n",
       "  </tr>\n",
       "  <tr>\n",
       "    <th>15</th>\n",
       "    <th>1.510833</th>\n",
       "    <th>2.083135</th>\n",
       "    <th>0.382110</th>\n",
       "  </tr>\n",
       "  <tr>\n",
       "    <th>16</th>\n",
       "    <th>1.457607</th>\n",
       "    <th>2.129824</th>\n",
       "    <th>0.376083</th>\n",
       "  </tr>\n",
       "  <tr>\n",
       "    <th>17</th>\n",
       "    <th>1.412197</th>\n",
       "    <th>2.110460</th>\n",
       "    <th>0.381652</th>\n",
       "  </tr>\n",
       "  <tr>\n",
       "    <th>18</th>\n",
       "    <th>1.374173</th>\n",
       "    <th>2.125398</th>\n",
       "    <th>0.381730</th>\n",
       "  </tr>\n",
       "  <tr>\n",
       "    <th>19</th>\n",
       "    <th>1.342908</th>\n",
       "    <th>2.123453</th>\n",
       "    <th>0.379564</th>\n",
       "  </tr>\n",
       "  <tr>\n",
       "    <th>20</th>\n",
       "    <th>1.317360</th>\n",
       "    <th>2.128546</th>\n",
       "    <th>0.381345</th>\n",
       "  </tr>\n",
       "</table>\n"
      ],
      "text/plain": [
       "<IPython.core.display.HTML object>"
      ]
     },
     "metadata": {},
     "output_type": "display_data"
    },
    {
     "data": {
      "text/html": [
       "Total time: 00:05 <p><table style='width:300px; margin-bottom:10px'>\n",
       "  <tr>\n",
       "    <th>epoch</th>\n",
       "    <th>train_loss</th>\n",
       "    <th>valid_loss</th>\n",
       "    <th>accuracy</th>\n",
       "  </tr>\n",
       "  <tr>\n",
       "    <th>1</th>\n",
       "    <th>3.630456</th>\n",
       "    <th>3.617838</th>\n",
       "    <th>0.056312</th>\n",
       "  </tr>\n",
       "  <tr>\n",
       "    <th>2</th>\n",
       "    <th>3.566849</th>\n",
       "    <th>3.527504</th>\n",
       "    <th>0.093827</th>\n",
       "  </tr>\n",
       "  <tr>\n",
       "    <th>3</th>\n",
       "    <th>3.446295</th>\n",
       "    <th>3.278949</th>\n",
       "    <th>0.257271</th>\n",
       "  </tr>\n",
       "  <tr>\n",
       "    <th>4</th>\n",
       "    <th>3.258730</th>\n",
       "    <th>2.794125</th>\n",
       "    <th>0.339650</th>\n",
       "  </tr>\n",
       "  <tr>\n",
       "    <th>5</th>\n",
       "    <th>3.018355</th>\n",
       "    <th>2.345082</th>\n",
       "    <th>0.455678</th>\n",
       "  </tr>\n",
       "  <tr>\n",
       "    <th>6</th>\n",
       "    <th>2.770810</th>\n",
       "    <th>2.126598</th>\n",
       "    <th>0.460241</th>\n",
       "  </tr>\n",
       "  <tr>\n",
       "    <th>7</th>\n",
       "    <th>2.547117</th>\n",
       "    <th>2.032101</th>\n",
       "    <th>0.431080</th>\n",
       "  </tr>\n",
       "  <tr>\n",
       "    <th>8</th>\n",
       "    <th>2.355589</th>\n",
       "    <th>2.002342</th>\n",
       "    <th>0.391553</th>\n",
       "  </tr>\n",
       "  <tr>\n",
       "    <th>9</th>\n",
       "    <th>2.194571</th>\n",
       "    <th>1.987139</th>\n",
       "    <th>0.354192</th>\n",
       "  </tr>\n",
       "  <tr>\n",
       "    <th>10</th>\n",
       "    <th>2.060129</th>\n",
       "    <th>1.975631</th>\n",
       "    <th>0.346457</th>\n",
       "  </tr>\n",
       "  <tr>\n",
       "    <th>11</th>\n",
       "    <th>1.946885</th>\n",
       "    <th>1.958323</th>\n",
       "    <th>0.358215</th>\n",
       "  </tr>\n",
       "  <tr>\n",
       "    <th>12</th>\n",
       "    <th>1.851026</th>\n",
       "    <th>1.950916</th>\n",
       "    <th>0.374923</th>\n",
       "  </tr>\n",
       "  <tr>\n",
       "    <th>13</th>\n",
       "    <th>1.769197</th>\n",
       "    <th>1.966392</th>\n",
       "    <th>0.373762</th>\n",
       "  </tr>\n",
       "  <tr>\n",
       "    <th>14</th>\n",
       "    <th>1.699150</th>\n",
       "    <th>1.970415</th>\n",
       "    <th>0.377862</th>\n",
       "  </tr>\n",
       "  <tr>\n",
       "    <th>15</th>\n",
       "    <th>1.639364</th>\n",
       "    <th>1.974354</th>\n",
       "    <th>0.384669</th>\n",
       "  </tr>\n",
       "  <tr>\n",
       "    <th>16</th>\n",
       "    <th>1.588589</th>\n",
       "    <th>1.997034</th>\n",
       "    <th>0.382580</th>\n",
       "  </tr>\n",
       "  <tr>\n",
       "    <th>17</th>\n",
       "    <th>1.545502</th>\n",
       "    <th>1.998539</th>\n",
       "    <th>0.384592</th>\n",
       "  </tr>\n",
       "  <tr>\n",
       "    <th>18</th>\n",
       "    <th>1.509218</th>\n",
       "    <th>1.996697</th>\n",
       "    <th>0.385210</th>\n",
       "  </tr>\n",
       "  <tr>\n",
       "    <th>19</th>\n",
       "    <th>1.478943</th>\n",
       "    <th>1.995535</th>\n",
       "    <th>0.386293</th>\n",
       "  </tr>\n",
       "  <tr>\n",
       "    <th>20</th>\n",
       "    <th>1.453803</th>\n",
       "    <th>1.991384</th>\n",
       "    <th>0.386989</th>\n",
       "  </tr>\n",
       "</table>\n"
      ],
      "text/plain": [
       "<IPython.core.display.HTML object>"
      ]
     },
     "metadata": {},
     "output_type": "display_data"
    },
    {
     "data": {
      "text/html": [
       "Total time: 00:05 <p><table style='width:300px; margin-bottom:10px'>\n",
       "  <tr>\n",
       "    <th>epoch</th>\n",
       "    <th>train_loss</th>\n",
       "    <th>valid_loss</th>\n",
       "    <th>accuracy</th>\n",
       "  </tr>\n",
       "  <tr>\n",
       "    <th>1</th>\n",
       "    <th>3.703126</th>\n",
       "    <th>3.643472</th>\n",
       "    <th>0.019028</th>\n",
       "  </tr>\n",
       "  <tr>\n",
       "    <th>2</th>\n",
       "    <th>3.653687</th>\n",
       "    <th>3.574833</th>\n",
       "    <th>0.046875</th>\n",
       "  </tr>\n",
       "  <tr>\n",
       "    <th>3</th>\n",
       "    <th>3.557509</th>\n",
       "    <th>3.398111</th>\n",
       "    <th>0.148205</th>\n",
       "  </tr>\n",
       "  <tr>\n",
       "    <th>4</th>\n",
       "    <th>3.406641</th>\n",
       "    <th>3.058738</th>\n",
       "    <th>0.280244</th>\n",
       "  </tr>\n",
       "  <tr>\n",
       "    <th>5</th>\n",
       "    <th>3.203883</th>\n",
       "    <th>2.673747</th>\n",
       "    <th>0.355121</th>\n",
       "  </tr>\n",
       "  <tr>\n",
       "    <th>6</th>\n",
       "    <th>2.974627</th>\n",
       "    <th>2.367667</th>\n",
       "    <th>0.380492</th>\n",
       "  </tr>\n",
       "  <tr>\n",
       "    <th>7</th>\n",
       "    <th>2.753072</th>\n",
       "    <th>2.180388</th>\n",
       "    <th>0.372061</th>\n",
       "  </tr>\n",
       "  <tr>\n",
       "    <th>8</th>\n",
       "    <th>2.556110</th>\n",
       "    <th>2.104619</th>\n",
       "    <th>0.349319</th>\n",
       "  </tr>\n",
       "  <tr>\n",
       "    <th>9</th>\n",
       "    <th>2.385476</th>\n",
       "    <th>2.057029</th>\n",
       "    <th>0.333308</th>\n",
       "  </tr>\n",
       "  <tr>\n",
       "    <th>10</th>\n",
       "    <th>2.238633</th>\n",
       "    <th>2.032740</th>\n",
       "    <th>0.331606</th>\n",
       "  </tr>\n",
       "  <tr>\n",
       "    <th>11</th>\n",
       "    <th>2.112668</th>\n",
       "    <th>2.020791</th>\n",
       "    <th>0.336866</th>\n",
       "  </tr>\n",
       "  <tr>\n",
       "    <th>12</th>\n",
       "    <th>2.004010</th>\n",
       "    <th>2.015017</th>\n",
       "    <th>0.337562</th>\n",
       "  </tr>\n",
       "  <tr>\n",
       "    <th>13</th>\n",
       "    <th>1.909821</th>\n",
       "    <th>2.006407</th>\n",
       "    <th>0.346689</th>\n",
       "  </tr>\n",
       "  <tr>\n",
       "    <th>14</th>\n",
       "    <th>1.828718</th>\n",
       "    <th>2.005999</th>\n",
       "    <th>0.354347</th>\n",
       "  </tr>\n",
       "  <tr>\n",
       "    <th>15</th>\n",
       "    <th>1.758676</th>\n",
       "    <th>2.018045</th>\n",
       "    <th>0.356513</th>\n",
       "  </tr>\n",
       "  <tr>\n",
       "    <th>16</th>\n",
       "    <th>1.698574</th>\n",
       "    <th>2.013312</th>\n",
       "    <th>0.360690</th>\n",
       "  </tr>\n",
       "  <tr>\n",
       "    <th>17</th>\n",
       "    <th>1.647079</th>\n",
       "    <th>2.003983</th>\n",
       "    <th>0.364171</th>\n",
       "  </tr>\n",
       "  <tr>\n",
       "    <th>18</th>\n",
       "    <th>1.604465</th>\n",
       "    <th>2.002454</th>\n",
       "    <th>0.365408</th>\n",
       "  </tr>\n",
       "  <tr>\n",
       "    <th>19</th>\n",
       "    <th>1.567142</th>\n",
       "    <th>2.004839</th>\n",
       "    <th>0.365099</th>\n",
       "  </tr>\n",
       "  <tr>\n",
       "    <th>20</th>\n",
       "    <th>1.535844</th>\n",
       "    <th>1.996473</th>\n",
       "    <th>0.366723</th>\n",
       "  </tr>\n",
       "</table>\n"
      ],
      "text/plain": [
       "<IPython.core.display.HTML object>"
      ]
     },
     "metadata": {},
     "output_type": "display_data"
    }
   ],
   "source": [
    "for l in seq_lens:\n",
    "    data = src.databunch(bs=bs, bptt=l)\n",
    "    learn = Learner(data, Model3(), metrics=accuracy)\n",
    "    learn.fit_one_cycle(20, 3e-3)\n",
    "    accs.append(learn.recorder.metrics[-1])"
   ]
  },
  {
   "cell_type": "code",
   "execution_count": 132,
   "metadata": {},
   "outputs": [
    {
     "data": {
      "image/png": "[encoded data removed]",
      "text/plain": [
       "<Figure size 432x288 with 1 Axes>"
      ]
     },
     "metadata": {
      "image/png": {
       "height": 277,
       "width": 393
      },
      "needs_background": "light"
     },
     "output_type": "display_data"
    }
   ],
   "source": [
    "fig = plt.figure()\n",
    "ax = fig.add_subplot(1, 1, 1)\n",
    "ax.set_xticks(seq_lens)\n",
    "ax.set_xlabel('Sequence Length')\n",
    "ax.set_ylabel('Best Val Accuracy')\n",
    "ax.set_title('Accuracy of RNN from Scratch')\n",
    "ax.plot(seq_lens, accs);"
   ]
  },
  {
   "cell_type": "markdown",
   "metadata": {},
   "source": [
    "I had expected to see a ceiling on accuracy as I increased sequence length. Rather than diminishing marginal returns, it is clear that accuracy, itself, decreases as sequence length gets further and further above 20.\n",
    "\n",
    "This inability to learn patterns that play out over longer durations (extended sequences) was one of the chief limitations of traditional RNNs, and was the motivator behind the invention of LSTM and GRU cells, which are both an attempt to help an RNN do a better job of remembering what happened a long time ago. \n",
    "\n",
    "Our final model will include a GRU cell, but first, we'll do a quick refactoring."
   ]
  },
  {
   "cell_type": "markdown",
   "metadata": {},
   "source": [
    "## Refactoring the above model using PyTorch's nn.RNN module\n",
    "\n",
    "Before we create our final model, we'll quickly make another model that's identical to the RNN we wrote from scratch above, but this time using PyTorch's nn.RNN module. Accuracy at a sequence length of 20 should be nearly the same as that of our model above."
   ]
  },
  {
   "cell_type": "code",
   "execution_count": 133,
   "metadata": {},
   "outputs": [],
   "source": [
    "class Model4(nn.Module):\n",
    "    def __init__(self):\n",
    "        super().__init__()\n",
    "        self.i_h = nn.Embedding(nv,nh)\n",
    "        self.rnn = nn.RNN(nh,nh)\n",
    "        self.h_o = nn.Linear(nh,nv)\n",
    "        self.bn = nn.BatchNorm1d(nh)\n",
    "        self.h = torch.zeros(1, x.shape[1], nh).cuda()\n",
    "        \n",
    "    def forward(self, x):\n",
    "        res,h = self.rnn(self.i_h(x), self.h)\n",
    "        self.h = h.detach()\n",
    "        return self.h_o(self.bn(res))"
   ]
  },
  {
   "cell_type": "code",
   "execution_count": 134,
   "metadata": {},
   "outputs": [],
   "source": [
    "data = src.databunch(bs=bs, bptt=20)"
   ]
  },
  {
   "cell_type": "code",
   "execution_count": 135,
   "metadata": {},
   "outputs": [],
   "source": [
    "learn = Learner(data, Model4(), metrics=accuracy)"
   ]
  },
  {
   "cell_type": "code",
   "execution_count": 136,
   "metadata": {},
   "outputs": [
    {
     "data": {
      "text/html": [
       "Total time: 00:03 <p><table style='width:300px; margin-bottom:10px'>\n",
       "  <tr>\n",
       "    <th>epoch</th>\n",
       "    <th>train_loss</th>\n",
       "    <th>valid_loss</th>\n",
       "    <th>accuracy</th>\n",
       "  </tr>\n",
       "  <tr>\n",
       "    <th>1</th>\n",
       "    <th>3.461237</th>\n",
       "    <th>3.338352</th>\n",
       "    <th>0.252630</th>\n",
       "  </tr>\n",
       "  <tr>\n",
       "    <th>2</th>\n",
       "    <th>3.045555</th>\n",
       "    <th>2.653579</th>\n",
       "    <th>0.459033</th>\n",
       "  </tr>\n",
       "  <tr>\n",
       "    <th>3</th>\n",
       "    <th>2.487665</th>\n",
       "    <th>2.172757</th>\n",
       "    <th>0.404703</th>\n",
       "  </tr>\n",
       "  <tr>\n",
       "    <th>4</th>\n",
       "    <th>2.029845</th>\n",
       "    <th>2.061625</th>\n",
       "    <th>0.321559</th>\n",
       "  </tr>\n",
       "  <tr>\n",
       "    <th>5</th>\n",
       "    <th>1.689484</th>\n",
       "    <th>2.000059</th>\n",
       "    <th>0.387454</th>\n",
       "  </tr>\n",
       "  <tr>\n",
       "    <th>6</th>\n",
       "    <th>1.439690</th>\n",
       "    <th>2.153950</th>\n",
       "    <th>0.376376</th>\n",
       "  </tr>\n",
       "  <tr>\n",
       "    <th>7</th>\n",
       "    <th>1.191181</th>\n",
       "    <th>1.918377</th>\n",
       "    <th>0.455321</th>\n",
       "  </tr>\n",
       "  <tr>\n",
       "    <th>8</th>\n",
       "    <th>0.990104</th>\n",
       "    <th>1.845795</th>\n",
       "    <th>0.486163</th>\n",
       "  </tr>\n",
       "  <tr>\n",
       "    <th>9</th>\n",
       "    <th>0.856416</th>\n",
       "    <th>1.743606</th>\n",
       "    <th>0.520833</th>\n",
       "  </tr>\n",
       "  <tr>\n",
       "    <th>10</th>\n",
       "    <th>0.735986</th>\n",
       "    <th>1.816331</th>\n",
       "    <th>0.521349</th>\n",
       "  </tr>\n",
       "  <tr>\n",
       "    <th>11</th>\n",
       "    <th>0.654788</th>\n",
       "    <th>1.789823</th>\n",
       "    <th>0.533295</th>\n",
       "  </tr>\n",
       "  <tr>\n",
       "    <th>12</th>\n",
       "    <th>0.585379</th>\n",
       "    <th>1.858827</th>\n",
       "    <th>0.524985</th>\n",
       "  </tr>\n",
       "  <tr>\n",
       "    <th>13</th>\n",
       "    <th>0.528670</th>\n",
       "    <th>1.892641</th>\n",
       "    <th>0.530554</th>\n",
       "  </tr>\n",
       "  <tr>\n",
       "    <th>14</th>\n",
       "    <th>0.483474</th>\n",
       "    <th>1.856103</th>\n",
       "    <th>0.538289</th>\n",
       "  </tr>\n",
       "  <tr>\n",
       "    <th>15</th>\n",
       "    <th>0.469318</th>\n",
       "    <th>1.870306</th>\n",
       "    <th>0.535114</th>\n",
       "  </tr>\n",
       "  <tr>\n",
       "    <th>16</th>\n",
       "    <th>0.439824</th>\n",
       "    <th>1.780974</th>\n",
       "    <th>0.546102</th>\n",
       "  </tr>\n",
       "  <tr>\n",
       "    <th>17</th>\n",
       "    <th>0.425433</th>\n",
       "    <th>1.775408</th>\n",
       "    <th>0.540068</th>\n",
       "  </tr>\n",
       "  <tr>\n",
       "    <th>18</th>\n",
       "    <th>0.398059</th>\n",
       "    <th>1.816928</th>\n",
       "    <th>0.546241</th>\n",
       "  </tr>\n",
       "  <tr>\n",
       "    <th>19</th>\n",
       "    <th>0.379537</th>\n",
       "    <th>1.814215</th>\n",
       "    <th>0.543704</th>\n",
       "  </tr>\n",
       "  <tr>\n",
       "    <th>20</th>\n",
       "    <th>0.373315</th>\n",
       "    <th>1.826371</th>\n",
       "    <th>0.543880</th>\n",
       "  </tr>\n",
       "</table>\n"
      ],
      "text/plain": [
       "<IPython.core.display.HTML object>"
      ]
     },
     "metadata": {},
     "output_type": "display_data"
    }
   ],
   "source": [
    "learn.fit_one_cycle(20, 3e-3)"
   ]
  },
  {
   "cell_type": "markdown",
   "metadata": {},
   "source": [
    "Sure enough our refactored model's accuracy at a sequence length of 20 after 20 epochs is `0.543880`, which is close enough to that of our model we created from scratch (`0.519183`) to pass our sanity check."
   ]
  },
  {
   "cell_type": "markdown",
   "metadata": {},
   "source": [
    "## 2-Layer GRU\n",
    "\n",
    "Our final version of an RNN will contain the most important tweak so far: a [Gated Recurrent Unit](https://arxiv.org/abs/1412.3555), or GRU. Similar to LSTM (long-short term memory) cells, GRUs enable a recurrent neural network to maintain an ability to store and recall important patterns, even if these patterns reoccur in the dataset somewhat infrequently.\n",
    "\n",
    "GRUs and LSTMs are actually deep neural networks in and of themselves. These networks contain layers with weights that can be trained, and the network ultimately learns to distinguish between the information that it should remember for the long term (across training iterations), and what information is likely not representative of an important pattern and can thus be discarded.\n",
    "\n",
    "GRUs and LSTMs figure prominently in modern speech recognition and translation services, such as Amazon's Alexa and Google translate.\n",
    "\n",
    "Michael Nguyen wrote a great [extended introduction](https://towardsdatascience.com/illustrated-guide-to-lstms-and-gru-s-a-step-by-step-explanation-44e9eb85bf21) to both GRUs and LSTMs.\n",
    "\n",
    "In our model below, we'll use an RNN that contains GRUs with 2 layers."
   ]
  },
  {
   "cell_type": "code",
   "execution_count": 137,
   "metadata": {},
   "outputs": [],
   "source": [
    "class Model5(nn.Module):\n",
    "    def __init__(self):\n",
    "        super().__init__()\n",
    "        self.i_h = nn.Embedding(nv,nh)\n",
    "        self.rnn = nn.GRU(nh,nh,2) # 2-layered GRU\n",
    "        self.h_o = nn.Linear(nh,nv)\n",
    "        self.bn = nn.BatchNorm1d(nh)\n",
    "        self.h = torch.zeros(2, bs, nh).cuda()\n",
    "        \n",
    "    def forward(self, x):\n",
    "        res,h = self.rnn(self.i_h(x), self.h)\n",
    "        self.h = h.detach()\n",
    "        return self.h_o(self.bn(res))"
   ]
  },
  {
   "cell_type": "code",
   "execution_count": 138,
   "metadata": {},
   "outputs": [],
   "source": [
    "data = src.databunch(bs=bs, bptt=20)"
   ]
  },
  {
   "cell_type": "code",
   "execution_count": 141,
   "metadata": {},
   "outputs": [],
   "source": [
    "learn = Learner(data, Model5(), metrics=accuracy)"
   ]
  },
  {
   "cell_type": "code",
   "execution_count": 142,
   "metadata": {},
   "outputs": [
    {
     "data": {
      "text/html": [
       "Total time: 00:02 <p><table style='width:300px; margin-bottom:10px'>\n",
       "  <tr>\n",
       "    <th>epoch</th>\n",
       "    <th>train_loss</th>\n",
       "    <th>valid_loss</th>\n",
       "    <th>accuracy</th>\n",
       "  </tr>\n",
       "  <tr>\n",
       "    <th>1</th>\n",
       "    <th>2.960941</th>\n",
       "    <th>2.474219</th>\n",
       "    <th>0.442528</th>\n",
       "  </tr>\n",
       "  <tr>\n",
       "    <th>2</th>\n",
       "    <th>2.056457</th>\n",
       "    <th>1.727605</th>\n",
       "    <th>0.539217</th>\n",
       "  </tr>\n",
       "  <tr>\n",
       "    <th>3</th>\n",
       "    <th>1.229998</th>\n",
       "    <th>1.464411</th>\n",
       "    <th>0.686881</th>\n",
       "  </tr>\n",
       "  <tr>\n",
       "    <th>4</th>\n",
       "    <th>0.670897</th>\n",
       "    <th>1.414941</th>\n",
       "    <th>0.761577</th>\n",
       "  </tr>\n",
       "  <tr>\n",
       "    <th>5</th>\n",
       "    <th>0.343395</th>\n",
       "    <th>1.464814</th>\n",
       "    <th>0.778465</th>\n",
       "  </tr>\n",
       "  <tr>\n",
       "    <th>6</th>\n",
       "    <th>0.178189</th>\n",
       "    <th>1.559702</th>\n",
       "    <th>0.776973</th>\n",
       "  </tr>\n",
       "  <tr>\n",
       "    <th>7</th>\n",
       "    <th>0.102173</th>\n",
       "    <th>1.552531</th>\n",
       "    <th>0.783338</th>\n",
       "  </tr>\n",
       "  <tr>\n",
       "    <th>8</th>\n",
       "    <th>0.061186</th>\n",
       "    <th>1.550503</th>\n",
       "    <th>0.782023</th>\n",
       "  </tr>\n",
       "  <tr>\n",
       "    <th>9</th>\n",
       "    <th>0.039353</th>\n",
       "    <th>1.586833</th>\n",
       "    <th>0.778852</th>\n",
       "  </tr>\n",
       "  <tr>\n",
       "    <th>10</th>\n",
       "    <th>0.029751</th>\n",
       "    <th>1.565249</th>\n",
       "    <th>0.779858</th>\n",
       "  </tr>\n",
       "</table>\n"
      ],
      "text/plain": [
       "<IPython.core.display.HTML object>"
      ]
     },
     "metadata": {},
     "output_type": "display_data"
    }
   ],
   "source": [
    "learn.fit_one_cycle(10, 1e-2)"
   ]
  },
  {
   "cell_type": "markdown",
   "metadata": {},
   "source": [
    "What a difference! The addition of GRUs caused our RNN's accuracy to nearly double, reaching a maximum of `0.779858` after only ten epochs.\n",
    "\n",
    "In this notebook we've seen that RNNs and vanilla neural networks differ by only a few lines of code. Namely, it's the ability to generate and store a prediction for every item in a sequence, and then use these previous predictions to enhance its prediction of the very next item/word/etc. that makes RNNs special.\n",
    "\n",
    "However, as we saw in the simple example above, as far as practical application is concerned, it's really the inclusion of GRUs or LSTMs that have enabled RNNs to become the model of choice for modern language recognition tasks."
   ]
  }
 ],
 "metadata": {
  "kernelspec": {
   "display_name": "Python 3",
   "language": "python",
   "name": "python3"
  },
  "language_info": {
   "codemirror_mode": {
    "name": "ipython",
    "version": 3
   },
   "file_extension": ".py",
   "mimetype": "text/x-python",
   "name": "python",
   "nbconvert_exporter": "python",
   "pygments_lexer": "ipython3",
   "version": "3.6.7"
  }
 },
 "nbformat": 4,
 "nbformat_minor": 2
}
